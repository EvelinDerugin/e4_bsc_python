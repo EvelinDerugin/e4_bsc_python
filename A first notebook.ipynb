{
  "nbformat": 4,
  "nbformat_minor": 0,
  "metadata": {
    "kernelspec": {
      "display_name": "Python 3",
      "language": "python",
      "name": "python3"
    },
    "language_info": {
      "codemirror_mode": {
        "name": "ipython",
        "version": 3
      },
      "file_extension": ".py",
      "mimetype": "text/x-python",
      "name": "python",
      "nbconvert_exporter": "python",
      "pygments_lexer": "ipython3",
      "version": "3.7.3"
    },
    "colab": {
      "name": "A first notebook.ipynb",
      "provenance": []
    }
  },
  "cells": [
    {
      "cell_type": "markdown",
      "metadata": {
        "id": "1oNEAF7tgKe1",
        "colab_type": "text"
      },
      "source": [
        "# A first notebook\n",
        "In case this is your first ever Jupyter notebook, hello there! Jupyter allows you to run Python code interactively in a very convenient way.\n",
        "\n",
        "You can run code organized in *code cells* by hitting Ctrl+Enter (Run cell) or Shift+Enter (Run cell and go to next cell)"
      ]
    },
    {
      "cell_type": "code",
      "metadata": {
        "id": "zntDQqOpgKe7",
        "colab_type": "code",
        "outputId": "3b7ad815-d1f0-416b-ae1a-4f6deb400114",
        "colab": {
          "base_uri": "https://localhost:8080/",
          "height": 34
        }
      },
      "source": [
        "# this is a code comment\n",
        "# run this cell\n",
        "print(\"Hello World!\")\n"
      ],
      "execution_count": 1,
      "outputs": [
        {
          "output_type": "stream",
          "text": [
            "Hello World!\n"
          ],
          "name": "stdout"
        }
      ]
    },
    {
      "cell_type": "markdown",
      "metadata": {
        "id": "OggjWllOgKfX",
        "colab_type": "text"
      },
      "source": [
        "By default, notebooks \"replay\" the last entry of each cell:"
      ]
    },
    {
      "cell_type": "code",
      "metadata": {
        "id": "QUB3PNZXgKfn",
        "colab_type": "code",
        "outputId": "693dd9e2-28fb-4b3b-e75f-9ea1964666ed",
        "colab": {}
      },
      "source": [
        "# run this cell\n",
        "\"Hello World!\""
      ],
      "execution_count": 0,
      "outputs": [
        {
          "output_type": "execute_result",
          "data": {
            "text/plain": [
              "'Hello World!'"
            ]
          },
          "metadata": {
            "tags": []
          },
          "execution_count": 3
        }
      ]
    },
    {
      "cell_type": "markdown",
      "metadata": {
        "id": "8fft-OG6gKf-",
        "colab_type": "text"
      },
      "source": [
        "In Jupyter notebooks, you can look into the documentation of a function by hitting Shift+Tab when the cursor is on a function. Click on the print function (either literally the letter 'p'r'i'n't' or into the brackets) and hit Shift+Tab.\n",
        "In Colab, you need to *connect the runtime first* before documentation is shown. The tooltip should be displayed as soon as you type a function with empty brackets after it wit the cursor in the brackets like *print(|)*. If you are using Colab, you should try to find the tooltip info.\n",
        "If you press Ctrl and hover over a function, a tooltip with its definition should show up."
      ]
    },
    {
      "cell_type": "markdown",
      "metadata": {
        "id": "0Z9pYzrXgKgB",
        "colab_type": "text"
      },
      "source": [
        "You can use auto-completiton by using Tab"
      ]
    },
    {
      "cell_type": "code",
      "metadata": {
        "id": "zuft40pygKgF",
        "colab_type": "code",
        "colab": {}
      },
      "source": [
        ""
      ],
      "execution_count": 0,
      "outputs": []
    }
  ]
}