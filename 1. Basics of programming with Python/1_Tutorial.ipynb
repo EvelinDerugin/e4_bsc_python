{
  "nbformat": 4,
  "nbformat_minor": 0,
  "metadata": {
    "celltoolbar": "Slideshow",
    "kernelspec": {
      "display_name": "Python 3",
      "language": "python",
      "name": "python3"
    },
    "language_info": {
      "codemirror_mode": {
        "name": "ipython",
        "version": 3
      },
      "file_extension": ".py",
      "mimetype": "text/x-python",
      "name": "python",
      "nbconvert_exporter": "python",
      "pygments_lexer": "ipython3",
      "version": "3.7.3"
    },
    "colab": {
      "name": "1_Tutorial.ipynb",
      "provenance": []
    }
  },
  "cells": [
    {
      "cell_type": "markdown",
      "metadata": {
        "id": "BQHFNqT6XXrg",
        "colab_type": "text"
      },
      "source": [
        "# Basics of programming with Python\n",
        "This tutorial covers the basic on how a Python program is built."
      ]
    },
    {
      "cell_type": "markdown",
      "metadata": {
        "id": "OwAz9PZpXXrq",
        "colab_type": "text"
      },
      "source": [
        "## 1. comments\n",
        "\n",
        "In most cases, python syntax is quite intuitive and is similar to \"pseudocode\".\n",
        "Comments are important to make your code readable for other, but especially for yourself, when you get back to it later in your thesis!\n",
        "In notebooks and some editors, there is a toggle function: in Jupyter it is Ctrl+# to comment in or out quickly."
      ]
    },
    {
      "cell_type": "code",
      "metadata": {
        "id": "08G6zu_0XXr1",
        "colab_type": "code",
        "colab": {}
      },
      "source": [
        "# comments are inserted like this"
      ],
      "execution_count": 0,
      "outputs": []
    },
    {
      "cell_type": "markdown",
      "metadata": {
        "id": "F8ttvv7wXXsX",
        "colab_type": "text"
      },
      "source": [
        "## 2. variable assignments and simple calculator operations"
      ]
    },
    {
      "cell_type": "code",
      "metadata": {
        "id": "iCi3gqyjXXsc",
        "colab_type": "code",
        "colab": {}
      },
      "source": [
        "# assign a variable\n",
        "a = 1\n",
        "\n",
        "# multiple assignment\n",
        "b = c = d = 0\n",
        "\n",
        "# common math operators\n",
        "e = a + b + c + d\n",
        "f = 2*a\n",
        "g = f**2\n",
        "h = 2/g\n",
        "\n",
        "# modulo operator\n",
        "res = 13%5 \n",
        "# integer division\n",
        "h = 2//g"
      ],
      "execution_count": 0,
      "outputs": []
    },
    {
      "cell_type": "markdown",
      "metadata": {
        "id": "yxXvWWplXXs6",
        "colab_type": "text"
      },
      "source": [
        "### print(...) - function for variable display\n",
        "All python functions can be displayed during execution using the print(variable) function"
      ]
    },
    {
      "cell_type": "code",
      "metadata": {
        "id": "7Q78i0ODXXs-",
        "colab_type": "code",
        "colab": {}
      },
      "source": [
        "# display variables e.g. using print(...)\n",
        "print(h)\n",
        "print(h, g, a)"
      ],
      "execution_count": 0,
      "outputs": []
    },
    {
      "cell_type": "markdown",
      "metadata": {
        "id": "yHVRJEqTXXtS",
        "colab_type": "text"
      },
      "source": [
        "## 3. python data type handling\n",
        "python automatically converts data types as needed and \"on the fly\". Variables can be reassigned with a new value of any type at any time. So be careful with your variable names as this can lead to very confusing errors!!\n",
        "The data type of something can be checked with type(...)"
      ]
    },
    {
      "cell_type": "markdown",
      "metadata": {
        "id": "-baVPCbXXXtU",
        "colab_type": "text"
      },
      "source": [
        "### numbers"
      ]
    },
    {
      "cell_type": "code",
      "metadata": {
        "id": "BOGIvoAlXXtX",
        "colab_type": "code",
        "colab": {}
      },
      "source": [
        "# int and float are casted into each other as needed \n",
        "h = 2\n",
        "type(h)"
      ],
      "execution_count": 0,
      "outputs": []
    },
    {
      "cell_type": "code",
      "metadata": {
        "id": "ZZEYA34UXXtf",
        "colab_type": "code",
        "colab": {}
      },
      "source": [
        "h = h/2\n",
        "type(h)"
      ],
      "execution_count": 0,
      "outputs": []
    },
    {
      "cell_type": "markdown",
      "metadata": {
        "id": "yf6_FJMCXXty",
        "colab_type": "text"
      },
      "source": [
        "### strings"
      ]
    },
    {
      "cell_type": "code",
      "metadata": {
        "id": "lrrL91vsXXt0",
        "colab_type": "code",
        "colab": {}
      },
      "source": [
        "# strings \n",
        "myText = 'this is a string'\n",
        "print(type(myText))\n",
        "\n",
        "# strings can be seen as dynamic lists compared to c++:\n",
        "myText += ' for example' # newText += addition is equivalent to newText = myText + addition\n",
        "print(myText)\n",
        "\n",
        "# some operations can be performed on strings\n",
        "go = 'Go! '\n",
        "print(3*go)"
      ],
      "execution_count": 0,
      "outputs": []
    },
    {
      "cell_type": "code",
      "metadata": {
        "id": "Dgajjr6aXXt8",
        "colab_type": "code",
        "colab": {}
      },
      "source": [
        "# useful string operations\n",
        "# join a list of strings into one long string separated by e.g. ','\n",
        "', '.join(['Dortmund', 'Düsseldorf', 'Köln'])"
      ],
      "execution_count": 0,
      "outputs": []
    },
    {
      "cell_type": "code",
      "metadata": {
        "id": "gt89opD4XXuB",
        "colab_type": "code",
        "colab": {}
      },
      "source": [
        "# the inverse\n",
        "# by default, it separates spaces and tabs\n",
        "'Dortmund, Düsseldorf, Köln'.split()"
      ],
      "execution_count": 0,
      "outputs": []
    },
    {
      "cell_type": "code",
      "metadata": {
        "id": "mC5AyDuXXXuJ",
        "colab_type": "code",
        "colab": {}
      },
      "source": [
        "# custom separator\n",
        "'Dortmund, Düsseldorf, Köln'.split(', ')"
      ],
      "execution_count": 0,
      "outputs": []
    },
    {
      "cell_type": "code",
      "metadata": {
        "id": "Hqnmpm7xXXuQ",
        "colab_type": "code",
        "colab": {}
      },
      "source": [
        "# clean up a string from leading or trailing whitespaces (yes, you might need this)\n",
        "'   Dortmund, Düsseldorf, Köln  '.strip()"
      ],
      "execution_count": 0,
      "outputs": []
    },
    {
      "cell_type": "markdown",
      "metadata": {
        "id": "ynON8frqXXuW",
        "colab_type": "text"
      },
      "source": [
        "### string format\n",
        "formatting a variable or literally anything into a string for printing, saving to txt,... is very often used in python. It is quite easy done by one of the three following different methods:"
      ]
    },
    {
      "cell_type": "code",
      "metadata": {
        "id": "J2sDHziKXXuZ",
        "colab_type": "code",
        "colab": {}
      },
      "source": [
        "# numbers can be inserted into strings in several ways:\n",
        "#casting and appending:\n",
        "print('Cast and append:')\n",
        "print('the answer is '+ str(42))\n",
        "print('the answer is ', 42)\n",
        "print('\\n')"
      ],
      "execution_count": 0,
      "outputs": []
    },
    {
      "cell_type": "markdown",
      "metadata": {
        "id": "MWYITFxtXXuj",
        "colab_type": "text"
      },
      "source": [
        "#### 'new style' string format\n",
        "Using the 'new style' string format, you can insert a {} keyword in your string. You can then append '{}'.format(var) to format the var into the string. The notation can cause trouble using latex at the same time. There are other ways to format a string, maybe you know about it or will learn about it later"
      ]
    },
    {
      "cell_type": "code",
      "metadata": {
        "id": "7Xwcw7XhXXum",
        "colab_type": "code",
        "colab": {}
      },
      "source": [
        "# string format:\n",
        "print('String format:')\n",
        "'this is number {}'.format(1)"
      ],
      "execution_count": 0,
      "outputs": []
    },
    {
      "cell_type": "code",
      "metadata": {
        "id": "4CYsIFb_XXut",
        "colab_type": "code",
        "colab": {}
      },
      "source": [
        "# You can use positional informations for the string formatting\n",
        "'{0} {1}'.format('We are', 'learning programming')"
      ],
      "execution_count": 0,
      "outputs": []
    },
    {
      "cell_type": "code",
      "metadata": {
        "id": "Vz5Kgb-QXXuz",
        "colab_type": "code",
        "colab": {}
      },
      "source": [
        "'{1} {0}'.format('We are', 'learning programming')"
      ],
      "execution_count": 0,
      "outputs": []
    },
    {
      "cell_type": "code",
      "metadata": {
        "id": "6Mkq_zeKXXu7",
        "colab_type": "code",
        "colab": {}
      },
      "source": [
        "# arguments' indices can be repeated\n",
        "'{0} {1} {2}{3}{2}'.format('We are', 'learning programming', '!!', '!1!1')   "
      ],
      "execution_count": 0,
      "outputs": []
    },
    {
      "cell_type": "code",
      "metadata": {
        "id": "8LePKzUfXXvB",
        "colab_type": "code",
        "colab": {}
      },
      "source": [
        "# after the :, you can specify how a number is supposed to be formatted for printing:\n",
        "line_1 = 'i want it displayed like this: {:03}'.format(4)\n",
        "line_2 = 'or maybe like this: {:.4f}'.format(4)\n",
        "line_3 = 'or with the example above: {} / {}'.format(1, 10)\n",
        "\n",
        "print(line_1)\n",
        "print(line_2)\n",
        "print(line_3)"
      ],
      "execution_count": 0,
      "outputs": []
    },
    {
      "cell_type": "markdown",
      "metadata": {
        "id": "Em5JYpnoXXvG",
        "colab_type": "text"
      },
      "source": [
        "#### inline formatting\n",
        "If you are lazy to write the .format(...) behind the strings, you can either google the 'old' format style or use inline formatting by prepending an 'f' to the string:"
      ]
    },
    {
      "cell_type": "code",
      "metadata": {
        "id": "fn154BOCXXvH",
        "colab_type": "code",
        "colab": {}
      },
      "source": [
        "f'This is a inline formatted string writing line_1: {line_1}'"
      ],
      "execution_count": 0,
      "outputs": []
    },
    {
      "cell_type": "code",
      "metadata": {
        "id": "SgZHCSOtXXvO",
        "colab_type": "code",
        "colab": {}
      },
      "source": [
        "# this works but it looks weird\n",
        "integer_number = 15\n",
        "float_number = 2.12353514\n",
        "f'Inline formatting can also format numbers like {integer_number:04} or {float_number:.2f}'"
      ],
      "execution_count": 0,
      "outputs": []
    },
    {
      "cell_type": "markdown",
      "metadata": {
        "id": "KSTPCO3uXXvT",
        "colab_type": "text"
      },
      "source": [
        "### bool"
      ]
    },
    {
      "cell_type": "code",
      "metadata": {
        "id": "N2Nm8NTAXXvV",
        "colab_type": "code",
        "colab": {}
      },
      "source": [
        "A = True\n",
        "B = False\n",
        "\n",
        "# compare values with == or !=\n",
        "print(A == B)\n",
        "print('The answer for (A != B) is:', (A != B))\n",
        "\n",
        "# greater, less and less/greater equal\n",
        "print(2 <= 2)\n",
        "print(3 > 2)"
      ],
      "execution_count": 0,
      "outputs": []
    },
    {
      "cell_type": "code",
      "metadata": {
        "id": "ONhyovklXXvc",
        "colab_type": "code",
        "colab": {}
      },
      "source": [
        "# logical connections are quite intuitive\n",
        "print(True and False)\n",
        "print(True or False)\n",
        "print(not True)\n",
        "\n",
        "# quite useful to test data types: isinstance(var, type)\n",
        "a = False\n",
        "print('Is this data a bool?', (isinstance(a, bool)))"
      ],
      "execution_count": 0,
      "outputs": []
    },
    {
      "cell_type": "markdown",
      "metadata": {
        "id": "L7LGlgpsXXvh",
        "colab_type": "text"
      },
      "source": [
        "### list\n",
        "Lists work somehow very similar to dynamic c++ lists except they can contain any data type. Elements are accessed c++ style."
      ]
    },
    {
      "cell_type": "code",
      "metadata": {
        "id": "pRLA5hfoXXvi",
        "colab_type": "code",
        "colab": {}
      },
      "source": [
        "a = [ 1, 'number', True]\n",
        "print(a)\n",
        "print(a[1])\n",
        "\n",
        "# 'slices' can be obtained with ':'. The last element is not included!\n",
        "# without a specified start or end, the beginning or end of the list is used\n",
        "print(a[0:1])\n",
        "print(a[1:])\n",
        "\n",
        "# indices can be negative, they are counted from the end of the list then\n",
        "print(a[-1])\n",
        "\n",
        "# often useful:\n",
        "print(len(a))"
      ],
      "execution_count": 0,
      "outputs": []
    },
    {
      "cell_type": "code",
      "metadata": {
        "id": "SKYz7krAXXvq",
        "colab_type": "code",
        "colab": {}
      },
      "source": [
        "# useful in many occasions:\n",
        "print(1 in [2,3,4,5])\n",
        "print(1 in [1,2,3,4,5])"
      ],
      "execution_count": 0,
      "outputs": []
    },
    {
      "cell_type": "code",
      "metadata": {
        "id": "9GJK3sBnXXvy",
        "colab_type": "code",
        "colab": {}
      },
      "source": [
        "print('part' in 'mywordlistparts')"
      ],
      "execution_count": 0,
      "outputs": []
    },
    {
      "cell_type": "code",
      "metadata": {
        "id": "8W_0LTBcXXv3",
        "colab_type": "code",
        "colab": {}
      },
      "source": [
        "# what do these do?\n",
        "print('mywordlistparts'[::-1])\n",
        "print('mywordlistparts'[::-2])\n",
        "print('mywordlistparts'[::-2])\n",
        "print('mywordlistparts'[3::][::-1])\n",
        "print('mywordlistparts'[3::-1])\n",
        "# experiment a bit with these to understand it!"
      ],
      "execution_count": 0,
      "outputs": []
    },
    {
      "cell_type": "markdown",
      "metadata": {
        "id": "i7c1x2NuXXv-",
        "colab_type": "text"
      },
      "source": [
        "### inplace operations\n",
        "lists are modified inplace with their methods. This can be handy but also lead to strange results as the methods do not have return values to print them for example.\n",
        "If you write some code yourself, you should probably avoid creating inplace methods."
      ]
    },
    {
      "cell_type": "code",
      "metadata": {
        "id": "yu08eE1uXXv_",
        "colab_type": "code",
        "colab": {}
      },
      "source": [
        "\n",
        "# lists can be extended inplace\n",
        "a.append('New element')\n",
        "print(a)\n",
        "#print('the list a has the length:', len(a)) # for showing this, reload the pad below 'list'\n",
        "\n",
        "# appending a list leads to a list in a list...\n",
        "a.append([2, 3])\n",
        "print(a)\n",
        "#print('the list a has the length:', len(a)) # for showing this, reload the pad below 'list'\n",
        "\n",
        "# very useful: removing elements is very easy\n",
        "a.remove([2, 3])\n",
        "print(a)\n",
        "\n",
        "# lists can be merged easily:\n",
        "print(a+[2,3])\n",
        "a.extend([2,3])\n",
        "print(a)"
      ],
      "execution_count": 0,
      "outputs": []
    },
    {
      "cell_type": "code",
      "metadata": {
        "id": "_HCEXGYzXXwH",
        "colab_type": "code",
        "colab": {}
      },
      "source": [
        "# useful boolean operations for lists:\n",
        "any([True, False, False])"
      ],
      "execution_count": 0,
      "outputs": []
    },
    {
      "cell_type": "code",
      "metadata": {
        "id": "kw2wS7vZXXwO",
        "colab_type": "code",
        "colab": {}
      },
      "source": [
        "all([True, False, False])"
      ],
      "execution_count": 0,
      "outputs": []
    },
    {
      "cell_type": "code",
      "metadata": {
        "id": "uq90mBDtXXwS",
        "colab_type": "code",
        "colab": {}
      },
      "source": [
        "# other useful built-in functions that can apply to lists\n",
        "a = [1,4,3,2,5,2,3,4,1,2,3]\n",
        "print(\"This list has length\", len(a) )\n",
        "\n",
        "print(\"The max value is\", max(a))\n",
        "\n",
        "print(\"The min value is\", min(a))\n",
        "\n",
        "print(\"The sorted list is: \", sorted(a))\n",
        "\n",
        "print(\"The sum of the list is: \", sum(a))\n",
        "\n",
        "print(\"The unique entries of the list are: \", set(a))\n",
        "\n",
        "# zip() can be extremely useful if you want to \"draw\" entries from two lists at the same time \n",
        "b = ['category a', 'category b', 'category c', 'category d']\n",
        "print(list(zip(a, b)))"
      ],
      "execution_count": 0,
      "outputs": []
    },
    {
      "cell_type": "code",
      "metadata": {
        "id": "0yUkbnXMXXwW",
        "colab_type": "code",
        "colab": {}
      },
      "source": [
        "# just so you know:\n",
        "print( len('teststring') )\n",
        "print( max('teststring') )\n",
        "print( min('teststring') )\n",
        "print( sorted('teststring') )"
      ],
      "execution_count": 0,
      "outputs": []
    },
    {
      "cell_type": "markdown",
      "metadata": {
        "id": "8Aif9Gq8XXwd",
        "colab_type": "text"
      },
      "source": [
        "### Example 3.1: Manual list sorting\n",
        "Take the list and resort it:\n",
        "- [9, 0, 8, 1, 7, 2, 6, 3, 5, 4]\n",
        "- [4, 5, 6, 0, 1, 3, 2, 7, 9, 8]"
      ]
    },
    {
      "cell_type": "markdown",
      "metadata": {
        "id": "H71ZSvWQXXwe",
        "colab_type": "text"
      },
      "source": [
        "### dict\n",
        "dicts are probably one of the greatest things in python! Like lists, they can contain any python object. The main difference is, that you don't access the items in a dict by index only but with a key. This makes storing data in it easy, intuitive and compact.\n",
        "\n",
        "Dict-like structures are the basis of many modern NoSQL (Not only SQL) data bases. Key-Value data bases like MongoDB or Amazon's DynamoDB are built by similar principles. Also data graphs like for example for social media data analysis are often stored in dict-like structures."
      ]
    },
    {
      "cell_type": "code",
      "metadata": {
        "id": "UJDxHJLhXXwe",
        "colab_type": "code",
        "colab": {}
      },
      "source": [
        "# dicts are useful to have a single variable holding different alternatives you can call from\n",
        "myDict = {\n",
        "    'raw_data': 'fit_linear',\n",
        "    'processed_data': 'fit_quadratic'\n",
        " }\n",
        "\n",
        "# things like this can take out a lot of if/else work and allow you to pass for example options around easily"
      ],
      "execution_count": 0,
      "outputs": []
    },
    {
      "cell_type": "code",
      "metadata": {
        "id": "qHeqTwC1XXwi",
        "colab_type": "code",
        "colab": {}
      },
      "source": [
        "myDict['raw_data']"
      ],
      "execution_count": 0,
      "outputs": []
    },
    {
      "cell_type": "code",
      "metadata": {
        "id": "y7apmgYBXXwm",
        "colab_type": "code",
        "colab": {}
      },
      "source": [
        "# you can literally store any python object in dicts\n",
        "d = {\n",
        "    'hello': \"Hello there\",\n",
        "    'name': 'TestUser',\n",
        "    'print': print,\n",
        "    print: 'This is a print function'\n",
        " }"
      ],
      "execution_count": 0,
      "outputs": []
    },
    {
      "cell_type": "code",
      "metadata": {
        "id": "XODeC3uHXXwt",
        "colab_type": "code",
        "colab": {}
      },
      "source": [
        "# if a dict returns a function, you can call it like you would normally do. \n",
        "# possible application: fit data sets with different fit functions depending on their filename\n",
        "# And: Nothing stops you from using functions as dict key\n",
        "d['print'](d['hello'])\n",
        "d['print'](d['name'])\n",
        "d[print]"
      ],
      "execution_count": 0,
      "outputs": []
    },
    {
      "cell_type": "code",
      "metadata": {
        "id": "OVHX8hCZXXwy",
        "colab_type": "code",
        "colab": {}
      },
      "source": [
        "# some important methods when working with dicts:\n",
        "myDict.keys()"
      ],
      "execution_count": 0,
      "outputs": []
    },
    {
      "cell_type": "code",
      "metadata": {
        "id": "Y_jMYmKLXXw2",
        "colab_type": "code",
        "colab": {}
      },
      "source": [
        "myDict.values()"
      ],
      "execution_count": 0,
      "outputs": []
    },
    {
      "cell_type": "code",
      "metadata": {
        "id": "Grv11MknXXw6",
        "colab_type": "code",
        "colab": {}
      },
      "source": [
        "myDict.items()"
      ],
      "execution_count": 0,
      "outputs": []
    },
    {
      "cell_type": "markdown",
      "metadata": {
        "id": "tjh8dXZ2XXw9",
        "colab_type": "text"
      },
      "source": [
        "## 4. Functions\n",
        "Functions are very useful to keep code short and reuse lines. The syntax for a function is shown below:"
      ]
    },
    {
      "cell_type": "code",
      "metadata": {
        "id": "xyaIFIO_XXw9",
        "colab_type": "code",
        "colab": {}
      },
      "source": [
        "# 1. A function definition starts with the keyword 'def'.\n",
        "# 2. The keyword is followed by the function name.\n",
        "# 3. In brackets follow the function argument/s.\n",
        "def function(argument1, argument2):\n",
        "    value = argument1 + argument2\n",
        "    return value\n",
        "\n",
        "print(function(2, 3))\n",
        "\n",
        "# you can return multiple values ...\n",
        "def function2(argument1, argument2):\n",
        "    value = argument1 + argument2\n",
        "    return value, argument1, argument2\n",
        "\n",
        "print(function2(2, 3))\n",
        "\n",
        "# ... or directly assign them to different variables\n",
        "def function3(argument1, argument2):\n",
        "    value = argument1 + argument2\n",
        "    return value, argument1, argument2\n",
        "\n",
        "a, b, c = function3(2, 3)\n",
        "print(a, b, c)"
      ],
      "execution_count": 0,
      "outputs": []
    },
    {
      "cell_type": "markdown",
      "metadata": {
        "id": "RXjEpelUXXxC",
        "colab_type": "text"
      },
      "source": [
        "### Unpacking variable lists: the * operator\n",
        "Sometimes you want to pass a list of parameters to a function:\n",
        "\n",
        "    y = fit_function(x, a, b, c, d, e, f, g, h)\n",
        "\n",
        "This can be really annoying to do... If you have the values for the parameters a - h stored in a list, you can 'unpack' them into the function:\n"
      ]
    },
    {
      "cell_type": "code",
      "metadata": {
        "id": "Tmp5MUDUXXxC",
        "colab_type": "code",
        "colab": {}
      },
      "source": [
        "def function_with_many_arguments(a, b, c, d, e):\n",
        "    print(\"I received the arguments a={}, b={}, c={}, d={}, e={}\".format(a, b, c, d, e))\n",
        "    \n",
        "function_with_many_arguments(1, 2, 3, 4, 5)"
      ],
      "execution_count": 0,
      "outputs": []
    },
    {
      "cell_type": "code",
      "metadata": {
        "id": "hkhMHVp3XXxF",
        "colab_type": "code",
        "colab": {}
      },
      "source": [
        "params = [1,2,3,4,5]\n",
        "function_with_many_arguments(*params)"
      ],
      "execution_count": 0,
      "outputs": []
    },
    {
      "cell_type": "markdown",
      "metadata": {
        "id": "lsa7PNcsXXxK",
        "colab_type": "text"
      },
      "source": [
        "If you didn't know this: probably could have saved you from some pain in the lab exercises I think. Someone might remember that e. g. the curve_fit function very commonly used returns a list of parameters."
      ]
    },
    {
      "cell_type": "markdown",
      "metadata": {
        "id": "lsh5a8DtXXxL",
        "colab_type": "text"
      },
      "source": [
        "## 5. Control Structures\n",
        "Control structures in python are quite similar to the ones in c++ except they look like pseudo code"
      ]
    },
    {
      "cell_type": "markdown",
      "metadata": {
        "id": "CJAlxoJ2XXxL",
        "colab_type": "text"
      },
      "source": [
        "### if/ else"
      ]
    },
    {
      "cell_type": "code",
      "metadata": {
        "id": "c3z15nswXXxL",
        "colab_type": "code",
        "colab": {}
      },
      "source": [
        "v = 2.7\n",
        "if v <= 1.5:\n",
        "    print('A')\n",
        "elif v <= 2.5:\n",
        "    print('B')\n",
        "elif v <= 3.5:\n",
        "    print('C')\n",
        "elif v <= 4:\n",
        "    print('D')\n",
        "else:\n",
        "    print('not passed')"
      ],
      "execution_count": 0,
      "outputs": []
    },
    {
      "cell_type": "markdown",
      "metadata": {
        "id": "S8j1g53pXXxQ",
        "colab_type": "text"
      },
      "source": [
        "### Example 5.1: leap year calculator\n",
        "Write a function which you can pass a year to and it tells you whether the year is a leap year or not. A year is a leap year, if it can be completely divided by 4, but not, if it can also be divided completely by 100, but again it is, if completely divisible by 400. The answer should have a similar form to:\n",
        "\n",
        "    leap_year_calc(2000)\n",
        "    --> \"the year 2000 is a leap year!\"\n",
        "\n",
        "Test your function with the years: 2000 (True), 2004 (True), 2018 (False), 2100 (False)\n",
        "\n",
        "ADDITIONAL task: Tell the function caller the reason.\n"
      ]
    },
    {
      "cell_type": "markdown",
      "metadata": {
        "id": "6Sw1RPrAXXxU",
        "colab_type": "text"
      },
      "source": [
        "### for"
      ]
    },
    {
      "cell_type": "code",
      "metadata": {
        "id": "dIshzMr9XXxV",
        "colab_type": "code",
        "colab": {}
      },
      "source": [
        "# very useful: range(x)\n",
        "for i in range(3):\n",
        "    print(i)\n",
        "    \n",
        "print('\\n')\n",
        "# python classic: loop over lists\n",
        "primes = [2, 3, 5]\n",
        "for n in primes:\n",
        "    print(n)\n",
        "\n",
        "print('\\n')\n",
        "#you can give the counting variable any name\n",
        "for prime in primes:\n",
        "    print(prime)"
      ],
      "execution_count": 0,
      "outputs": []
    },
    {
      "cell_type": "code",
      "metadata": {
        "id": "YF5ylGQLXXxa",
        "colab_type": "code",
        "colab": {}
      },
      "source": [
        "# you can stop a loop with 'break'\n",
        "for i in range(10):\n",
        "\n",
        "    if i == 4:\n",
        "        break \n",
        "        \n",
        "    print(i)"
      ],
      "execution_count": 0,
      "outputs": []
    },
    {
      "cell_type": "code",
      "metadata": {
        "id": "Fhw0gWGaXXxe",
        "colab_type": "code",
        "colab": {}
      },
      "source": [
        "# you can skip one element of the loop with 'continue'\n",
        "for i in range(10):\n",
        "    \n",
        "    if i == 4:\n",
        "        continue \n",
        "        \n",
        "    print(i)"
      ],
      "execution_count": 0,
      "outputs": []
    },
    {
      "cell_type": "code",
      "metadata": {
        "id": "BP7VF2yxXXxi",
        "colab_type": "code",
        "colab": {}
      },
      "source": [
        "print('\\n')\n",
        "# you can loop over strings as well:\n",
        "for letter in 'word':\n",
        "    print(letter)\n",
        "\n",
        "print('\\n')\n",
        "# often very useful: enumerate(x)\n",
        "for i, letter in enumerate('word'):\n",
        "    print('The {}. letter is {}'.format(i, letter))\n",
        "for i, letter in enumerate([1,4,5,8,3]):\n",
        "    print('The {}. entry in the list is {}'.format(i, letter))\n",
        "  \n",
        "# you can choose where enumerate starts\n",
        "for i, letter in enumerate([1,4,5,8,3], 1):\n",
        "    print('The {}. entry in the list is {}'.format(i, letter))\n",
        "\n",
        "print('\\n')\n",
        "# also usable for dicts:\n",
        "for key, value in myDict.items():\n",
        "    print(key, value)\n",
        "\n",
        "print('\\n')\n",
        "for key in myDict:\n",
        "    print(myDict[key])"
      ],
      "execution_count": 0,
      "outputs": []
    },
    {
      "cell_type": "markdown",
      "metadata": {
        "id": "iva3OLxeXXxn",
        "colab_type": "text"
      },
      "source": [
        "#### iterables\n",
        "The group of Python objects that allow those loop operations are called 'iterables'. You will encounter them here and there and they are very useful."
      ]
    },
    {
      "cell_type": "markdown",
      "metadata": {
        "id": "ZA2zXIN7XXxo",
        "colab_type": "text"
      },
      "source": [
        "#### Example 5.2: Processing multiple objects using lists\n",
        "Write a for loop, that processes all years given in the last example.\n",
        "\n",
        "\n",
        "#### Example 5.3: Fibonacci numbers\n",
        "Write a function that returns a list of fibonacci numbers up to a given threshold.\n",
        "Fibonacci numbers are defined by starting from [1,1] always appending the sum of the two former elements to the list --> [1,1,2] --> [1,1,2,3]"
      ]
    },
    {
      "cell_type": "markdown",
      "metadata": {
        "id": "PCFCy-uYXXxo",
        "colab_type": "text"
      },
      "source": [
        "### while"
      ]
    },
    {
      "cell_type": "code",
      "metadata": {
        "id": "nGAxzGSrXXxq",
        "colab_type": "code",
        "colab": {}
      },
      "source": [
        "i = 1\n",
        "while i < 4:\n",
        "    i += 1\n",
        "print(i)"
      ],
      "execution_count": 0,
      "outputs": []
    },
    {
      "cell_type": "markdown",
      "metadata": {
        "id": "COEXQgr9XXxv",
        "colab_type": "text"
      },
      "source": [
        "## 6. Reading and writing files\n",
        "Reading and writing files is a very common task in programming. Although a lot of packages you will use have their own routines on how to read and write data, we will briefly look at how to do it in a simple way"
      ]
    },
    {
      "cell_type": "code",
      "metadata": {
        "id": "_G-TFKxWXXxv",
        "colab_type": "code",
        "colab": {}
      },
      "source": [
        "file_name = 'simple_data_set.csv'\n",
        "f = open(file_name, 'r')"
      ],
      "execution_count": 0,
      "outputs": []
    },
    {
      "cell_type": "code",
      "metadata": {
        "id": "uSBAhrecXXx3",
        "colab_type": "code",
        "colab": {}
      },
      "source": [
        "# read loads the whole file content into the memory\n",
        "f.read()"
      ],
      "execution_count": 0,
      "outputs": []
    },
    {
      "cell_type": "code",
      "metadata": {
        "id": "lMm8MMeiXXx7",
        "colab_type": "code",
        "colab": {}
      },
      "source": [
        "# the file is at its end now, you cannot go on reading\n",
        "f.read()"
      ],
      "execution_count": 0,
      "outputs": []
    },
    {
      "cell_type": "code",
      "metadata": {
        "id": "N_aUIfURXXx_",
        "colab_type": "code",
        "colab": {}
      },
      "source": [
        "# you need to close a file after reading to avoid damaged files or unwanted behaviour\n",
        "f.close()"
      ],
      "execution_count": 0,
      "outputs": []
    },
    {
      "cell_type": "code",
      "metadata": {
        "id": "zoL5T3snXXyD",
        "colab_type": "code",
        "colab": {}
      },
      "source": [
        "# if you want to read a file twice, you need to go back to the beginning:\n",
        "f = open(file_name, 'r')\n",
        "print(f.read()) # print automatically converts \\n into a line break\n",
        "f.seek(0) # go back to position 0\n",
        "print(f.read())\n",
        "f.close()"
      ],
      "execution_count": 0,
      "outputs": []
    },
    {
      "cell_type": "code",
      "metadata": {
        "id": "k1MwWsDzXXyH",
        "colab_type": "code",
        "colab": {}
      },
      "source": [
        "# in many cases more useful: read a file line by line. It stops when it finds a \\n (newline) in the string\n",
        "f = open(file_name, 'r')\n",
        "f.readline()"
      ],
      "execution_count": 0,
      "outputs": []
    },
    {
      "cell_type": "code",
      "metadata": {
        "id": "naisHR7mXXyV",
        "colab_type": "code",
        "colab": {}
      },
      "source": [
        "# for data files, readlines is often very useful\n",
        "lines = f.readlines()\n",
        "\n",
        "# let's print it line by line\n",
        "for line in lines:\n",
        "    print(line)"
      ],
      "execution_count": 0,
      "outputs": []
    },
    {
      "cell_type": "code",
      "metadata": {
        "id": "OIc-hazBXXyY",
        "colab_type": "code",
        "colab": {}
      },
      "source": [
        ""
      ],
      "execution_count": 0,
      "outputs": []
    },
    {
      "cell_type": "code",
      "metadata": {
        "id": "lq-a_wKZXXyc",
        "colab_type": "code",
        "colab": {}
      },
      "source": [
        "# a nice way to make sure the file is closed properly\n",
        "with open(file_name, 'r') as f2:\n",
        "    for line in f2.readlines():\n",
        "        print(line)\n",
        "    \n",
        "# f2 is closed now"
      ],
      "execution_count": 0,
      "outputs": []
    },
    {
      "cell_type": "code",
      "metadata": {
        "id": "zqwSpZ3gXXyf",
        "colab_type": "code",
        "colab": {}
      },
      "source": [
        "# writing to a file is very similar\n",
        "# note the 'w' instead of the 'r'. \n",
        "# 'w' creates a new file if not present and overwrites existing ones. 'a' can append to existing files.\n",
        "# if you want to create a new line, you need to append \\n to the string (newline command)\n",
        "with open('my_file_to_write.txt', 'w') as f3:\n",
        "    f3.write(\"# this is a test data set\\n\")\n",
        "    f3.write(\"# x f(x)\\n\")\n",
        "    for x in range(100):\n",
        "        f3.write(f\"{x} {3*x+2}\\n\")\n",
        "    "
      ],
      "execution_count": 0,
      "outputs": []
    },
    {
      "cell_type": "markdown",
      "metadata": {
        "id": "8IJYfQZ-XXyi",
        "colab_type": "text"
      },
      "source": [
        "# Wrap-up task\n",
        "You have completed the first part of the Python tutorial, congratulations! The following task will help you to check whether you understood what you learned.\n",
        "\n",
        "### Simple data inspection from scratch\n",
        "Write a python script that performs the following tasks:\n",
        "- read the simple_data_set.csv into a list of lines\n",
        "- use the first line to create a dictionary with the entries as keys (species, ...)\n",
        "    - store the first line of the file in a variable\n",
        "    - clean and split it (watch the separator)\n",
        "    - create a dict with these names as keys and empty lists as items\n",
        "- store the data in lists in the dictionary\n",
        "    - you need to exclude the first line, remember how to index the list for this\n",
        "    - for each line\n",
        "        - clean and split it\n",
        "        - append the entries to the respective keys, remember zip and append for this\n",
        "        - the files are read as strings, you need to convert elements with float(x)\n",
        "            - watch out: you cannot convert names to float like the species, you need to exclude this\n",
        "- for each feature (sepal_length, ...) except \"species\" print \n",
        "    - number of entries\n",
        "    - minimun value\n",
        "    - maximum value\n",
        "    - mean value \n",
        "        - time to get creative, write your own function function for this\n",
        "        - pass the list as input parameter, return the mean value\n",
        "        - in the print output, limit the mean value to three decimal points"
      ]
    }
  ]
}