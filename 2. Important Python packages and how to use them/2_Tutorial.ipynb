{
  "nbformat": 4,
  "nbformat_minor": 0,
  "metadata": {
    "celltoolbar": "Slideshow",
    "kernelspec": {
      "display_name": "Python 3",
      "language": "python",
      "name": "python3"
    },
    "language_info": {
      "codemirror_mode": {
        "name": "ipython",
        "version": 3
      },
      "file_extension": ".py",
      "mimetype": "text/x-python",
      "name": "python",
      "nbconvert_exporter": "python",
      "pygments_lexer": "ipython3",
      "version": "3.7.3"
    },
    "colab": {
      "name": "2_Tutorial.ipynb",
      "provenance": []
    }
  },
  "cells": [
    {
      "cell_type": "markdown",
      "metadata": {
        "id": "ZMjNacnZ46Td",
        "colab_type": "text"
      },
      "source": [
        "# Important Python packages and how to use them\n",
        "\n",
        "A big part of pythons 'power' is the vast availability of packages for nearly everything.\n",
        "If you want to do anything with python, it is always worth a quick look at google whether there\n",
        "is a package which is doing just that.\n",
        "\n",
        "### important packages we will discuss:\n",
        "\n",
        "- scipy: a lot of features for curve fitting, integration, solving differential equations, statistics, ...\n",
        "- numpy: handling of numpy arrays for fast processing of large data arrays. Implements a lot of mathematical functions -> usage highly recommended for any sort of math task\n",
        "- matplotlib: for plots of all sort\n",
        "- pandas: import and export of data from nearly any form, performing statistics, grouping, applying functions on whole data sets, ... very mighty data tool!\n",
        "- seaborn: easy and powerful data visualisation "
      ]
    },
    {
      "cell_type": "markdown",
      "metadata": {
        "id": "5rCFqLSY46Tg",
        "colab_type": "text"
      },
      "source": [
        "### important packages we will not discuss in this tutorial:\n",
        "\n",
        "- os: comes with some useful methods to create directories, change the current working directory, join paths platform independently, check for the existence of files, ...\n",
        "- sys: lets you use arguments passed to a python script via console, controls the stdout flow, check the operating system, ...\n",
        "- uncertainties: easy error propagation \n",
        "- pickle: store binary data (like trained learner from machine learning) or whatever else\n",
        "- scikit-learn: machine learning package\n"
      ]
    },
    {
      "cell_type": "markdown",
      "metadata": {
        "id": "WCC9cq0r46Tl",
        "colab_type": "text"
      },
      "source": [
        "## 1. import\n",
        "Packages can be imported with the import keyword.\n",
        "For some packages there is a common alias like np for numpy. You can specify an alias as shown below. To import only a certain module from a package or only a function or class from a module, you can do so as well."
      ]
    },
    {
      "cell_type": "code",
      "metadata": {
        "id": "UrqtgWkW46Tq",
        "colab_type": "code",
        "colab": {}
      },
      "source": [
        "# packages are included this way:\n",
        "import numpy\n",
        "\n",
        "# you can give an 'alias' to imported packages\n",
        "import numpy as np\n",
        "\n",
        "# you can import certain methods or classes from a package\n",
        "from scipy.optimize import curve_fit"
      ],
      "execution_count": 0,
      "outputs": []
    },
    {
      "cell_type": "markdown",
      "metadata": {
        "id": "mnOJH85P46T-",
        "colab_type": "text"
      },
      "source": [
        "## 2. numpy: numerical python\n",
        "\n",
        "There is nearly always the need of processing arrays of numbers. If you use arrays, you should \"always\" use numpy arrays"
      ]
    },
    {
      "cell_type": "code",
      "metadata": {
        "id": "Pig5uLR-46UA",
        "colab_type": "code",
        "colab": {}
      },
      "source": [
        "# the numpy array is always recommended to use when it is about doing something with arrays\n",
        "a = np.array([1,2,3,4])\n",
        "\n",
        "print(a)\n",
        "\n",
        "# the handling is quite similar to lists\n",
        "print(a[-2:-1]) # the slicing means [-2:-2:]\n",
        "\n",
        "# very useful: functions executed with numpy arrays act on each entry normally without code changes:\n",
        "def f(x):\n",
        "    return x**2\n",
        "\n",
        "# a big exception are if statements, which wont work as expected on arrays!\n",
        "\n",
        "print(f(a))"
      ],
      "execution_count": 0,
      "outputs": []
    },
    {
      "cell_type": "markdown",
      "metadata": {
        "id": "ib51yrzA46UL",
        "colab_type": "text"
      },
      "source": [
        "### numpy - some important features\n",
        "These are some methods you will need quite sure."
      ]
    },
    {
      "cell_type": "code",
      "metadata": {
        "id": "yObYkbeS46UO",
        "colab_type": "code",
        "colab": {}
      },
      "source": [
        "# important features:\n",
        "\n",
        "# array of length 4 filled with zeros\n",
        "a = np.zeros(4)\n",
        "print(a)\n",
        "\n",
        "# array of length 3 filled with ones\n",
        "b = np.ones(3)\n",
        "print(b)\n",
        "\n",
        "\n",
        "# matrix of zeros with the size 3x4, meaning there will be 3 rows and 4 columns\n",
        "a = np.zeros((3,4))\n",
        "print(a)"
      ],
      "execution_count": 0,
      "outputs": []
    },
    {
      "cell_type": "code",
      "metadata": {
        "id": "M50BccAS46UW",
        "colab_type": "code",
        "colab": {}
      },
      "source": [
        "# linear distributed numbers between start and end (end included)\n",
        "# the third argument gives the length\n",
        "x = np.linspace(0, 10, 21)\n",
        "print('x =', x)\n",
        "\n",
        "# exponentially distributed numbers with the exponents from lower to higher\n",
        "# this means from 1*10**1 = 10 up to 1*10**5 = 100000\n",
        "y = np.logspace(1, 5, 11)\n",
        "print('y =', y)\n",
        "\n",
        "# numbers between low (included) and high (excluded) with stepwidth as third argument\n",
        "k = np.arange(0, 16, 3)\n",
        "print('k =', k)\n",
        "\n",
        "# many functions for arrays are efficiently implemented in numpy\n",
        "y = np.exp(x)\n",
        "print('np.exp(x) =', y)\n",
        "\n",
        "#similar: np.log, np.sqrt, np.sin, np.cos,.........\n",
        "\n",
        "\n",
        "# in np.random there are several random generators, for example normal, uniform, poisson, ...\n",
        "x = np.random.normal(0, 1, 10) #this means, the mean of the distribution is 0, the sigma is 1 and we generate 10 numbers"
      ],
      "execution_count": 0,
      "outputs": []
    },
    {
      "cell_type": "markdown",
      "metadata": {
        "id": "BNXLhFs346Uh",
        "colab_type": "text"
      },
      "source": [
        "### masking\n",
        "Very often you want to \"filter\" an array by a value e.g. all values larger than a certain threshold. This can be done very easily!"
      ]
    },
    {
      "cell_type": "code",
      "metadata": {
        "id": "Zt3hSc9h46Uk",
        "colab_type": "code",
        "colab": {}
      },
      "source": [
        "# very useful for slicing\n",
        "print('gaussian distributed x =', x)\n",
        "print('Is x>0.2?', x>0.2)\n",
        "print('The numbers with x>0.2 are ',x[x>0.2])"
      ],
      "execution_count": 0,
      "outputs": []
    },
    {
      "cell_type": "code",
      "metadata": {
        "id": "NC7IhGvc46Uv",
        "colab_type": "code",
        "colab": {}
      },
      "source": [
        "# often overlooked but an extremely powerful tool:\n",
        "x = np.arange(-5, 5)\n",
        "print(\"Values: \", x)\n",
        "\n",
        "# entry-wise if evaluation\n",
        "# you can chain multiple evaluations with \n",
        "# AND: (first condition in brackets) & (second condition in brackets)\n",
        "# OR: (first condition in brackets) | (second condition in brackets)\n",
        "print(\"Values are below zeros at these indices: \", np.where(x < 0)[0])\n",
        "# you can also apply a function to the parts of the array where the condition is True or False\n",
        "print(\"Rectified values: \", np.where(x < 0, 0, 1))"
      ],
      "execution_count": 0,
      "outputs": []
    },
    {
      "cell_type": "markdown",
      "metadata": {
        "id": "MRxovItc46U3",
        "colab_type": "text"
      },
      "source": [
        "## 3. matplotlib\n",
        "matplotlib is a quite flexible library for easy plot creation. Usually pyplot from matplotlib is imported with the alias plt"
      ]
    },
    {
      "cell_type": "code",
      "metadata": {
        "id": "RPuC4_e_46U4",
        "colab_type": "code",
        "colab": {}
      },
      "source": [
        "import matplotlib.pyplot as plt\n",
        "\n",
        "# fill a histogram with the created numbers and show the histogram\n",
        "x = np.random.normal(0, 1, 10)\n",
        "plt.hist(x)\n",
        "plt.show()"
      ],
      "execution_count": 0,
      "outputs": []
    },
    {
      "cell_type": "markdown",
      "metadata": {
        "id": "A9z5TQ5E46VB",
        "colab_type": "text"
      },
      "source": [
        "### python histograms\n",
        "python sees histograms not quite as the same thing like for example root. In python they are stored and handles as a collection of:\n",
        "> (bin edges, bin contents, \"drawn\" bars for display)\n",
        "<br>\n",
        "\n",
        "You can get these from the function call of plt.hist "
      ]
    },
    {
      "cell_type": "code",
      "metadata": {
        "id": "Gx-uVn3S46VC",
        "colab_type": "code",
        "colab": {}
      },
      "source": [
        "things = plt.hist(x)\n",
        "print(things)"
      ],
      "execution_count": 0,
      "outputs": []
    },
    {
      "cell_type": "markdown",
      "metadata": {
        "id": "RrFHoHvG46VK",
        "colab_type": "text"
      },
      "source": [
        "### Example 3.1: Distributions and histograms\n",
        "\n",
        "Look up another distribution available from numpy random. Generate some data points, fill them into a histogram and show it."
      ]
    },
    {
      "cell_type": "markdown",
      "metadata": {
        "id": "Cwj158tW46VT",
        "colab_type": "text"
      },
      "source": [
        "### plot with matplotlib\n",
        "This is an example of a more \"complex\" plot"
      ]
    },
    {
      "cell_type": "code",
      "metadata": {
        "id": "SKUAKGBs46VU",
        "colab_type": "code",
        "colab": {}
      },
      "source": [
        "# lets create an array and calc some formula on it\n",
        "x = np.linspace(-4, 4) # remember: create 50 equally dirstibuted numbers between -4 and 4\n",
        "y = x**2\n",
        "\n",
        "# get a figure and specify the size (in inches ...)\n",
        "# first number corresponds to the width, second to the height\n",
        "# dpi are \"dots per inch\" and refer to image quality\n",
        "# 300 is good for printing (like a thesis), but you should prefer pdf files for this anyway\n",
        "f = plt.figure(figsize=(6,4), dpi=300) \n",
        "\n",
        "# plot the values, add a 'style' and a label\n",
        "plt.plot(x, y, 'k+', label = '$f(x) = x^2$') # k stands for black, the + will plot a + as the marker\n",
        "\n",
        "# add labels to the axis\n",
        "plt.xlabel('$x$')\n",
        "plt.ylabel('$y$')\n",
        "\n",
        "# add a legend to the best position\n",
        "plt.legend(loc='best')\n",
        "\n",
        "# activate the grid (True optional as argument)\n",
        "plt.grid()\n",
        "\n",
        "# make things look nice if something has gone wrong\n",
        "plt.tight_layout()\n",
        "\n",
        "# save to file\n",
        "plt.savefig('plot.png')\n",
        "\n",
        "# show\n",
        "plt.show()"
      ],
      "execution_count": 0,
      "outputs": []
    },
    {
      "cell_type": "markdown",
      "metadata": {
        "id": "314SH95g46Vb",
        "colab_type": "text"
      },
      "source": [
        "### Example 3.2: Enhance your histograms\n",
        "Add a label, x- and y- axis labels and a legend to your histograms. Use a different color and save it.\n",
        "### Example 3.3: Red dotted sine function\n",
        "Create an array from 0 to 2pi (np.pi is available ...) and compute the sine function of it. Plot it to a canvas using a red dashed line.\n",
        "\n",
        "### Example 3.4: Slicing plots\n",
        "Plot positive values black, negative ones red.\n",
        "\n",
        "### Example 3.5: Add gaussian noise\n",
        "Add gaussian noise to the sine plot and use the same color for all data points again."
      ]
    },
    {
      "cell_type": "markdown",
      "metadata": {
        "id": "IPcKEXP146Vd",
        "colab_type": "text"
      },
      "source": [
        "### errorbar\n",
        "For many plots in physics you need to also show the uncertainties of a given value. This can be done with the errorbar method, parsing the uncertainties as yerr=values."
      ]
    },
    {
      "cell_type": "code",
      "metadata": {
        "id": "-7Jq-iEp46Vf",
        "colab_type": "code",
        "colab": {}
      },
      "source": [
        "# another very important 'plotstyle': errorbar\n",
        "\n",
        "# get another figure\n",
        "plt.figure(figsize=(6,4), dpi=300)\n",
        "\n",
        "# the hist function returns the bin contents, the bin edges and the histogram itself\n",
        "x = np.random.normal(0, 1, 1000)\n",
        "content, edges, hist = plt.hist(x, label='histogram')\n",
        "#print(edges)\n",
        "#print(edges[:-1])\n",
        "#print(edges[1:])\n",
        "#print((edges[:-1]+edges[1:])/2)\n",
        "\n",
        "# add the errorbar plot\n",
        "# the style is specified using the fmt argument\n",
        "## we need the bin middles for the position of the errorbars\n",
        "## we can get them from the bin edges building the mean values of a pair of two edges\n",
        "## we can use our known form of indexing for that\n",
        "### plt.errorbar(x-position, y-position, yerr=values, xerr=values, ...)\n",
        "plt.errorbar((edges[:-1]+edges[1:])/2, y=content, yerr=np.sqrt(content), fmt='+', label='uncertainties')\n",
        "\n",
        "# adding the legend and show\n",
        "plt.legend(loc='best')\n",
        "plt.show()\n",
        "plt.clf()\n",
        "# errorbar also takes two arrays as yerr input for assymetric errorbars\n",
        "\n",
        "# other useful plot styles: semilogy, semilogx, loglog"
      ],
      "execution_count": 0,
      "outputs": []
    },
    {
      "cell_type": "markdown",
      "metadata": {
        "id": "Uy0ABxFG46Vn",
        "colab_type": "text"
      },
      "source": [
        "## 4. scipy\n",
        "scipy is useful especially for curve fitting and integration"
      ]
    },
    {
      "cell_type": "code",
      "metadata": {
        "id": "rqtRyiQ546Vp",
        "colab_type": "code",
        "colab": {}
      },
      "source": [
        "# we need to import the function curve_fit which implements a least squares algorithm\n",
        "# it is included in the scipy package within the optimize module\n",
        "from scipy.optimize import curve_fit\n",
        "\n",
        "# to fit a gaussian, we define a function taking three parameters in addition to x:\n",
        "def gaussian(x, mu, sigma, I):\n",
        "    return I*np.exp(-(x-mu)*(x-mu)/2/sigma/sigma)\n",
        "\n",
        "# we need the bin middles for the fit\n",
        "xvals = (edges[1:]+edges[:-1])/2\n",
        "yvals = content\n",
        "\n",
        "# the actual fit is pretty straightforward\n",
        "# we define a fit function, the x and y values and curve_fit returns a vector of best parameters\n",
        "# (in our case mu, sigma and I)\n",
        "## the variable covariance contains the covariance matrix of the fit parameters and \n",
        "## can therefore provide us with fit uncertainties\n",
        "params, covariance = curve_fit(gaussian, xvals, yvals)\n",
        "print(params)\n",
        "\n",
        "# more parameters:\n",
        "# - sigma, absolute_sigma: std. dev. of values and whether they are relative or not\n",
        "# - maxfev: number of function evaluations\n",
        "# - p0=[...]: initial values for fit start\n",
        "# - bounds=[[...], [...]] limits for the fit"
      ],
      "execution_count": 0,
      "outputs": []
    },
    {
      "cell_type": "markdown",
      "metadata": {
        "id": "qG17zcBo46V0",
        "colab_type": "text"
      },
      "source": [
        "### plot fit values\n",
        "you can plot fit results into a figure using for example a np.linspace"
      ]
    },
    {
      "cell_type": "code",
      "metadata": {
        "id": "hzmMW2dQ46V1",
        "colab_type": "code",
        "colab": {}
      },
      "source": [
        "# first we create a larger figure\n",
        "plt.figure(figsize=(6,4), dpi=300)\n",
        "\n",
        "# we create a histogram and get its parameters\n",
        "content, edges, hist = plt.hist(x, label='histogram')\n",
        "# add some errorbars in the bin middles\n",
        "plt.errorbar((edges[:-1]+edges[1:])/2, y = content, yerr=np.sqrt(content), fmt='+', label='uncertainties')\n",
        "\n",
        "# create a linspace for plotting the fit results\n",
        "xvals = np.linspace(-3.5, 3.5, 200)\n",
        "\n",
        "# simply plot the results with the * operator\n",
        "plt.plot(xvals, gaussian(xvals, *params), 'k--', label='gaussian fit')\n",
        "plt.legend(loc='best')\n",
        "plt.show()"
      ],
      "execution_count": 0,
      "outputs": []
    },
    {
      "cell_type": "markdown",
      "metadata": {
        "id": "3j4Gqwjc46V8",
        "colab_type": "text"
      },
      "source": [
        "### Example 4.1: Noisy sine fit\n",
        "Use your noisy sine function from before. Fit a self defined sine function (adding parameters for moving along the x and y axis) and fit a curve on it which is also displayed. \n",
        "Save the figure with a name of your choice.\n",
        "\n",
        "### Example 4.2: Weighted fit\n",
        "Redo the fit of the gaussian histogram above, but use weights this time.\n"
      ]
    },
    {
      "cell_type": "markdown",
      "metadata": {
        "id": "0gsqARSX46V-",
        "colab_type": "text"
      },
      "source": [
        "## 5. pandas\n",
        "easy data import, export and statistical data analysis. pandas is often imported with the alias pd"
      ]
    },
    {
      "cell_type": "code",
      "metadata": {
        "id": "ZRBcnf7v46WA",
        "colab_type": "code",
        "colab": {}
      },
      "source": [
        "import pandas as pd"
      ],
      "execution_count": 0,
      "outputs": []
    },
    {
      "cell_type": "code",
      "metadata": {
        "id": "0F2D_kY_46WG",
        "colab_type": "code",
        "colab": {}
      },
      "source": [
        "# pandas works with DataFrames, similar to dicts\n",
        "data = pd.DataFrame()\n",
        "\n",
        "data['x'] = np.linspace(0,20, 200)\n",
        "data['y'] = data['x']**2\n",
        "# columns can be specified before as well\n",
        "# data = pd.DataFrame(columns=['x', 'y'])\n",
        "\n",
        "plt.figure(figsize=(6,4), dpi=150)\n",
        "plt.plot(data['x'], data['y'])\n",
        "plt.show()"
      ],
      "execution_count": 0,
      "outputs": []
    },
    {
      "cell_type": "markdown",
      "metadata": {
        "id": "eBn0cP-E46WN",
        "colab_type": "text"
      },
      "source": [
        "### pandas element access\n",
        "There are several ways to access elements in a pandas DataFrame.\n",
        "The most powerful way is the df.loc[row, column] method.This one can also write new values which column only access can not do! This would lead to a quite cryptic \"write to slice\" warning. You will notice it when you see it."
      ]
    },
    {
      "cell_type": "code",
      "metadata": {
        "id": "W-DqIJ0L46WO",
        "colab_type": "code",
        "colab": {}
      },
      "source": [
        "# single elements can be accessed best with the loc method\n",
        "print(len(data.loc[:, 'x']))\n",
        "print(data.loc[0, 'x'])\n",
        "\n",
        "# data export is very easy as well:\n",
        "data.to_csv('myData.csv')\n",
        "data.to_excel('myData.xls')"
      ],
      "execution_count": 0,
      "outputs": []
    },
    {
      "cell_type": "markdown",
      "metadata": {
        "id": "gNNtMGkf46WZ",
        "colab_type": "text"
      },
      "source": [
        "### import data from xls or csv"
      ]
    },
    {
      "cell_type": "code",
      "metadata": {
        "id": "ENksZWna5C2u",
        "colab_type": "code",
        "colab": {}
      },
      "source": [
        "# if you are using Colab, you need to download the file from the github repository first:\n",
        "!wget https://github.com/flome/e4_bsc_python/blob/master/2.%20Important%20Python%20packages%20and%20how%20to%20use%20them/detectors.xls"
      ],
      "execution_count": 0,
      "outputs": []
    },
    {
      "cell_type": "code",
      "metadata": {
        "id": "3nHveSAg46Wa",
        "colab_type": "code",
        "colab": {}
      },
      "source": [
        "# DataFrames can be imported and exported from many formats like xls, csv, txt, ...\n",
        "data = pd.read_excel('detectors.xls')\n",
        "\n",
        "# check data content\n",
        "print(data.columns)\n",
        "\n",
        "# loop over all available columns\n",
        "for col in ['det_0', 'det_1', 'det_2', 'det_3']:\n",
        "    \n",
        "    plt.figure(figsize=(6,4))\n",
        "    \n",
        "    # plot measurement\n",
        "    plt.plot(data['time'], data[col], label='measurement')\n",
        "    \n",
        "    # add legend and show\n",
        "    plt.legend(loc='best')\n",
        "    plt.show()"
      ],
      "execution_count": 0,
      "outputs": []
    },
    {
      "cell_type": "markdown",
      "metadata": {
        "id": "hHgImiol46Wh",
        "colab_type": "text"
      },
      "source": [
        "### Example 5.1: Gaussian fit\n",
        "Fit a gaussian function into the data and show the data and the fit on the same plot."
      ]
    },
    {
      "cell_type": "markdown",
      "metadata": {
        "id": "MNu6Q6BA46Wh",
        "colab_type": "text"
      },
      "source": [
        "### Another data set\n",
        "Let's have a look at another data set."
      ]
    },
    {
      "cell_type": "code",
      "metadata": {
        "id": "wnRlJV5k6h2t",
        "colab_type": "code",
        "colab": {}
      },
      "source": [
        "# if you are using Colab, you need to download the file from the github repository first:\n",
        "!wget https://github.com/flome/e4_bsc_python/blob/master/2.%20Important%20Python%20packages%20and%20how%20to%20use%20them/iris.csv"
      ],
      "execution_count": 0,
      "outputs": []
    },
    {
      "cell_type": "code",
      "metadata": {
        "id": "Ns4u8wOl46Wi",
        "colab_type": "code",
        "colab": {}
      },
      "source": [
        "# import another data set\n",
        "frame = pd.read_csv('iris.csv')\n",
        "\n",
        "# inspect columns and length of the data frame\n",
        "print(frame.columns)\n",
        "print(len(frame))    "
      ],
      "execution_count": 0,
      "outputs": []
    },
    {
      "cell_type": "code",
      "metadata": {
        "id": "gq_DV4RM46Wq",
        "colab_type": "code",
        "colab": {}
      },
      "source": [
        "# let's get an overview over the frame entries:\n",
        "for col in frame.columns:\n",
        "    plt.figure(figsize=(10,7))\n",
        "    plt.hist(frame[col])\n",
        "    plt.ylabel('entries')\n",
        "    plt.xlabel(col)\n",
        "    plt.show()\n",
        "    \n",
        "# How would you get mean value and std of each feature??"
      ],
      "execution_count": 0,
      "outputs": []
    },
    {
      "cell_type": "markdown",
      "metadata": {
        "id": "fEA15cT846Ww",
        "colab_type": "text"
      },
      "source": [
        "### Group data by one column\n",
        "Especially when you want to group multiple entries of a data set, you need to be able to group them by a certain column.\n",
        "\n",
        "Naive Approach: Using masks like with numpy"
      ]
    },
    {
      "cell_type": "code",
      "metadata": {
        "id": "iNN869ZO46W1",
        "colab_type": "code",
        "colab": {}
      },
      "source": [
        "# naive approach:\n",
        "group1 = frame[frame['species']=='setosa']\n",
        "group2 = frame[frame['species']=='versicolor']\n",
        "group3 = frame[frame['species']=='virginica']\n",
        "\n",
        "\n",
        "# mean1 = group1.mean()...."
      ],
      "execution_count": 0,
      "outputs": []
    },
    {
      "cell_type": "markdown",
      "metadata": {
        "scrolled": false,
        "id": "AMI_zr4_46W_",
        "colab_type": "text"
      },
      "source": [
        "### groupby and aggregate - might pandas tools\n",
        "pandas can be used for statistical data analysis of a data set. For example the values can be grouped by values in a certain column, for example if a column represents a certain classification group, you can group by that one to see marginalised distributions in each group.\n",
        "\n",
        "With the aggregate method you can gather some statistical information about data sets. Used together with group for example it can be very useful."
      ]
    },
    {
      "cell_type": "code",
      "metadata": {
        "id": "asL1vIOh46XC",
        "colab_type": "code",
        "colab": {}
      },
      "source": [
        "# you can group by a column using pandas\n",
        "grouped_frame = frame.groupby(frame['species'])\n",
        "print(grouped_frame.mean())"
      ],
      "execution_count": 0,
      "outputs": []
    },
    {
      "cell_type": "code",
      "metadata": {
        "id": "9zWN8ao146XK",
        "colab_type": "code",
        "colab": {}
      },
      "source": [
        "# sometimes you need more than just one statistic measure\n",
        "frame.groupby(frame['species']).aggregate(['mean', 'std', 'sem'])"
      ],
      "execution_count": 0,
      "outputs": []
    },
    {
      "cell_type": "code",
      "metadata": {
        "id": "NKaY6AOU46XS",
        "colab_type": "code",
        "colab": {}
      },
      "source": [
        "# a mighty and useful tool: groupby and aggregate\n",
        "for group, values in frame.groupby('species'):\n",
        "    \n",
        "    # agg is useful to obtain several statistical measures of a data set\n",
        "    print(values.agg(['mean', 'std']))\n",
        "    for col in values.columns:\n",
        "        plt.hist(values[col])\n",
        "        plt.title('%s: %s'%(group, col))\n",
        "        plt.show()"
      ],
      "execution_count": 0,
      "outputs": []
    },
    {
      "cell_type": "markdown",
      "metadata": {
        "id": "lwneEGkk46XZ",
        "colab_type": "text"
      },
      "source": [
        "### Example 5.2: Inspect correlations\n",
        "\n",
        "You can inspect correlations in data by plotting features against each other. To be able to differentiate the different species, you can plot the classes in different colors with help of the *color='...'* for matplotlib.pyplot.plot(...).\n",
        "\n",
        "Create at least 3 plots with each one feature against another one. Use different colors to differentiate the classes."
      ]
    },
    {
      "cell_type": "markdown",
      "metadata": {
        "id": "gAJvQry446Xb",
        "colab_type": "text"
      },
      "source": [
        "## seaborn\n",
        "seaborn is very useful for easy data visualisation and has a lot to offer, we will only have a look at a single feature, the rest is up to you to google ;)"
      ]
    },
    {
      "cell_type": "code",
      "metadata": {
        "id": "xR2Es0Ki46Xc",
        "colab_type": "code",
        "colab": {}
      },
      "source": [
        "# seaborn is often imported as sns alias\n",
        "import seaborn as sns\n",
        "\n",
        "# let's use the data from the previous example\n",
        "sns.pairplot(frame, hue='species');\n",
        "\n",
        "# Quite impressive, isn't it?"
      ],
      "execution_count": 0,
      "outputs": []
    },
    {
      "cell_type": "code",
      "metadata": {
        "id": "0-WNm0qR46Xh",
        "colab_type": "code",
        "colab": {}
      },
      "source": [
        "# you can also specify which columns you want to see (of course you can ...)\n",
        "sns.pairplot(frame[['sepal_length', 'sepal_width', 'species']], hue='species');\n"
      ],
      "execution_count": 0,
      "outputs": []
    }
  ]
}