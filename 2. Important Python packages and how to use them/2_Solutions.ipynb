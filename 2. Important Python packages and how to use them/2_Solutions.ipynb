{
 "cells": [
  {
   "cell_type": "markdown",
   "metadata": {},
   "source": [
    "### 6.1: Distributions and histograms\n",
    "\n",
    "Look up another distribution available from numpy random. Generate some data points, fill them into a histogram and show it."
   ]
  },
  {
   "cell_type": "code",
   "execution_count": null,
   "metadata": {},
   "outputs": [],
   "source": [
    "# We will use a poisson generator here.\n",
    "import numpy as np\n",
    "import matplotlib.pyplot as plt\n",
    "\n",
    "# We can store functions in variables as well:\n",
    "rand = np.random.poisson\n",
    "\n",
    "data = rand(5, 10000) # Mu of the distribution is 5 and we\n",
    "# generate 10000 values\n",
    "\n",
    "# Showing the resulting distribution:\n",
    "plt.hist(data)\n",
    "plt.show()\n",
    "\n",
    "\n",
    "### Additional advice:\n",
    "# You can set the number of bins and the range of the \n",
    "# histogram to greatly improve your histograms:\n",
    "plt.hist(data, bins=21, range=[-0.5, 20.5])\n",
    "plt.show()"
   ]
  },
  {
   "cell_type": "markdown",
   "metadata": {},
   "source": [
    "### 3.2: Enhance your histogram\n",
    "Add a label, x- and y- axis labels and a legend to your histogram. Use a different color and save it."
   ]
  },
  {
   "cell_type": "code",
   "execution_count": null,
   "metadata": {},
   "outputs": [],
   "source": [
    "plt.figure(figsize=(6, 4))\n",
    "plt.hist(data, color='orange', bins=21, range=[-0.5, 20.5], label='Poisson distribution')\n",
    "plt.xlabel('x', fontsize=12)\n",
    "plt.ylabel('counts per bin', fontsize=12)\n",
    "plt.legend(loc='upper right', fontsize=12)\n",
    "\n",
    "plt.tight_layout()\n",
    "plt.savefig('plot_different_colour.png')\n",
    "\n",
    "plt.show()\n",
    "\n",
    "#### There is also a way to modify the font size of the ticks (of course there is ...).\n",
    "#### You should feel free to look up on google how to use rcParams and axis objects."
   ]
  },
  {
   "cell_type": "markdown",
   "metadata": {},
   "source": [
    "### 3.3: Red dotted sine function\n",
    "Create an array from 0 to 2pi (np.pi is available ...) and compute the sine function of it. Plot it to a canvas using a red dashed line."
   ]
  },
  {
   "cell_type": "code",
   "execution_count": null,
   "metadata": {},
   "outputs": [],
   "source": [
    "##### Basic solution\n",
    "\n",
    "# We need to import the modules numpy as matplotlib.pyplot:\n",
    "import numpy as np\n",
    "import matplotlib.pyplot as plt\n",
    "\n",
    "\n",
    "#### Step by step solution\n",
    "\n",
    "# Create equally distributed numbers between 0 and 2*pi:\n",
    "x = np.linspace(0, 2*np.pi)\n",
    "\n",
    "# Get a figure of nice size:\n",
    "plt.figure(figsize=(6, 4))\n",
    "# Plot the function and set the style to 'r--' -> 'r'=red, '--' is the dashed line option:\n",
    "plt.plot(x, np.sin(x), 'r-.')\n",
    "\n",
    "# Display the figure.\n",
    "plt.show()"
   ]
  },
  {
   "cell_type": "code",
   "execution_count": null,
   "metadata": {},
   "outputs": [],
   "source": [
    "##### More detailed solution with additional information\n",
    "\n",
    "# The modules stay imported after executing the cell above.\n",
    "# On restart you would have to import them again before this cell works.\n",
    "\n",
    "# Get a figure of nice size:\n",
    "plt.figure(figsize=(6, 4))\n",
    "\n",
    "# Plot the function and set the style to 'r--' -> 'r'=red, '--' is the dashed line option:\n",
    "plt.plot(x, np.sin(x), 'r--',\n",
    "         # if you want to use latex backslashes in text, you need to put an 'r' in front of the string\n",
    "         label=r'$f(x) = \\sin(x)$')\n",
    "\n",
    "# Set up axis labels and legend:\n",
    "plt.xlabel('$x$')\n",
    "plt.ylabel('$f(x)$')\n",
    "\n",
    "# If you like to, turn on the grid.\n",
    "plt.grid(True) # True is optional, without argument it will alternate between switching on and off\n",
    "\n",
    "# If you like to, you can set a limit on the x axis, ylim works equally for the other axis.\n",
    "plt.xlim(0, 2*np.pi)\n",
    "\n",
    "# Let's put the legend up right:\n",
    "plt.legend(loc='upper right')\n",
    "plt.show()"
   ]
  },
  {
   "cell_type": "markdown",
   "metadata": {},
   "source": [
    "### 3.4: Slicing plots\n",
    "Plot positive values black, negative ones red."
   ]
  },
  {
   "cell_type": "code",
   "execution_count": null,
   "metadata": {},
   "outputs": [],
   "source": [
    "# The modules are still imported from the cells above!\n",
    "\n",
    "plt.figure(figsize=(6,4))\n",
    "\n",
    "# We could keep using the x from before as well but it looks cleaner like this.\n",
    "x = np.linspace(0, 2*np.pi)\n",
    "\n",
    "# Compute the f(x) values.\n",
    "y = np.sin(x)\n",
    "\n",
    "# Using the y[y>0] and y[y<0] slicing technique and we also use a new marker:\n",
    "plt.plot(x[y>=0], y[y>=0], 'ko', label='positive')\n",
    "plt.plot(x[y<0], y[y<0], 'ro', label='negative')\n",
    "\n",
    "# Add the grid.\n",
    "plt.grid(True)\n",
    "\n",
    "# Put the legend in somewhere.\n",
    "# You can also change fonts and everything else pretty much, just have a look on google!\n",
    "plt.legend(loc='upper right', fontsize=14)\n",
    "\n",
    "plt.show()"
   ]
  },
  {
   "cell_type": "markdown",
   "metadata": {},
   "source": [
    "### 3.5: Add gaussian noise\n",
    "Add gaussian noise to the sine plot and use the same color for all data points again."
   ]
  },
  {
   "cell_type": "code",
   "execution_count": null,
   "metadata": {},
   "outputs": [],
   "source": [
    "# The modules are still imported from the cells above!\n",
    "plt.figure(figsize=(6, 4))\n",
    "\n",
    "# Let's take some more values than only 50.\n",
    "x = np.linspace(0, 2*np.pi, 200)\n",
    "\n",
    "# Compute the f(x) values.\n",
    "# The np.random.normal() takes the mu values (means) as first argument, the second is sigma.\n",
    "y = np.random.normal(np.sin(x), 0.3)\n",
    "\n",
    "# Plot the function and take small dots as markers.\n",
    "plt.plot(x, y, '.', label='noisy sine function')\n",
    "\n",
    "# Put the legend in somewhere.\n",
    "# You can also change fonts and everything else pretty much, just have a look on google!\n",
    "plt.legend(loc='upper right', fontsize=14)\n",
    "\n",
    "plt.show()"
   ]
  },
  {
   "cell_type": "markdown",
   "metadata": {},
   "source": [
    "### 4.1: Noisy sine fit\n",
    "Use your noisy sine function from before. Fit a self defined sine function (adding parameters for moving along the x and y axis) and fit a curve on it which is also displayed. \n",
    "Save the figure with a name of your choice."
   ]
  },
  {
   "cell_type": "code",
   "execution_count": null,
   "metadata": {},
   "outputs": [],
   "source": [
    "# Let's import the curve_fit from scipy.optimize:\n",
    "from scipy.optimize import curve_fit\n",
    "\n",
    "# The x and y values are still saved from the plot in the cell above!\n",
    "# We define a fit function:\n",
    "def fit_sinus(x, a, b, c):\n",
    "    # a for fitting the amplitude, b moves along x and c along y\n",
    "    return a*np.sin(x-b)+c\n",
    "\n",
    "# Perform the fit :\n",
    "params, covariance = curve_fit(fit_sinus, x, y)\n",
    "\n",
    "# Print the resulting parameters:\n",
    "for i, param in enumerate(['a', 'b', 'c']):\n",
    "    print('%s = %s +/- %s'%(param, params[i], np.sqrt(covariance[i, i])))\n",
    "\n",
    "# The modules are still imported from the cells above!\n",
    "plt.figure(figsize=(6,4))\n",
    "\n",
    "# Plot the datapoints and the fit function:\n",
    "plt.plot(x, y, 'b.', label='noisy sine function')\n",
    "plt.plot(x, fit_sinus(x, *params), 'r--', label='fit function')\n",
    "\n",
    "# Put the legend in somewhere.\n",
    "plt.legend(loc='upper right')\n",
    "\n",
    "# Save the plot with a fancy name you will remember later ...\n",
    "plt.tight_layout()\n",
    "plt.savefig('plot_noisy_sine_fit.png')\n",
    "\n",
    "plt.show()"
   ]
  },
  {
   "cell_type": "markdown",
   "metadata": {},
   "source": [
    "### 4.2: Weighted fit\n",
    "Redo the fit of the gaussian histogram above, but use weights this time.\n"
   ]
  },
  {
   "cell_type": "code",
   "execution_count": null,
   "metadata": {},
   "outputs": [],
   "source": [
    "# First we create a figure just like always:\n",
    "plt.figure(figsize=(6,4))\n",
    "\n",
    "# We create the histogram which returns our contents, bin edges and the drawn histogram.\n",
    "x = np.random.normal(0, 1, 1000) # we can also normalize the histogram with the keyword argument 'normed=True'\n",
    "content, edges, hist = plt.hist(x, label='histogram')\n",
    "\n",
    "# First we draw the errorbars into the image:\n",
    "plt.errorbar((edges[:-1]+edges[1:])/2, y = content, yerr=np.sqrt(content), fmt='+', label='uncertainties')\n",
    "\n",
    "# Next we compute the bin middles and perform the fit.\n",
    "xvals = (edges[1:]+edges[:-1])/2\n",
    "yvals = content\n",
    "\n",
    "# For the fit we need a gaussian function:\n",
    "def gaussian(x, I, mu, sigma):\n",
    "    return I*np.exp(-(x-mu)*(x-mu)/2/sigma/sigma)\n",
    "\n",
    "\n",
    "# We perform the fit handing over sigma and absolute_sigma.\n",
    "# Keep in mind, that this does not work if any bin is zero ....\n",
    "params, covariance = curve_fit(gaussian, xvals, yvals, sigma = yvals, absolute_sigma=True,)\n",
    "\n",
    "# Create a linspace and plot the fit parameters:\n",
    "xvals = np.linspace(-3.5, 3.5, 200)\n",
    "plt.plot(xvals, gaussian(xvals, *params), 'k--', label='gaussian fit')\n",
    "plt.legend(loc='best')\n",
    "plt.show()"
   ]
  },
  {
   "cell_type": "markdown",
   "metadata": {},
   "source": [
    "### Example 5.0: pandas basics\n",
    "\n",
    "Use the DataFrame data and plot only the following cases:\n",
    "\n",
    "all values up to x=2.5\n",
    "all values between 50>y<10\n",
    "all values between 15>x<17\n",
    "all values greater than y=350\n",
    "Use different dashed lines for each plot. Create a new dataframe with the data from the last case and save the data in a csv file."
   ]
  },
  {
   "cell_type": "code",
   "execution_count": null,
   "metadata": {},
   "outputs": [],
   "source": [
    "data = pd.DataFrame()\n",
    "\n",
    "data['x'] = np.linspace(0,20, 200)\n",
    "data['y'] = data['x']**2\n",
    "\n",
    "\n",
    "plt.plot(data[\"x\"],data[\"y\"], 'r-')\n",
    "\n",
    "x_1=data.loc[data['x']<2.5, 'x']\n",
    "y_1=data.loc[data['x']<2.5, 'y']\n",
    "\n",
    "plt.plot(x_1,y_1, 'b--')\n",
    "\n",
    "x_2=data.loc[(data['y']<100) & (data['y']>50), 'x']\n",
    "y_2=data.loc[(data['y']<100) & (data['y']>50), 'y']\n",
    "\n",
    "plt.plot(x_1,y_1, 'g-.')\n",
    "\n",
    "x_3=data.loc[(data['x']<17) & (data['x']>15), 'x']\n",
    "y_3=data.loc[(data['x']<17) & (data['x']>15), 'y']\n",
    "\n",
    "plt.plot(x_1,y_1, 'm:')\n",
    "\n",
    "x_4=data.loc[data['y']>350, 'x']\n",
    "y_4=data.loc[data['y']>350, 'y']\n",
    "\n",
    "plt.plot(x_1,y_1, 'c.')\n",
    "plt.show()\n",
    "\n",
    "lastcase = pd.DataFrame()\n",
    "\n",
    "lastcase['x'] =x_4\n",
    "lastcase['y'] =y_4\n",
    "lastcase.to_csv('myData_lastpart.csv')"
   ]
  },
  {
   "cell_type": "markdown",
   "metadata": {},
   "source": []
  },
  {
   "cell_type": "markdown",
   "metadata": {},
   "source": [
    "### 5.1: Gaussian fit\n",
    "Fit a gaussian function into the data and show the data and the fit on the same plot."
   ]
  },
  {
   "cell_type": "code",
   "execution_count": null,
   "metadata": {},
   "outputs": [],
   "source": [
    "import pandas as pd\n",
    "\n",
    "# Import the data needed.\n",
    "data = pd.read_excel('detectors.xls')\n",
    "\n",
    "# Write gaussian function for the fit.\n",
    "# We need the one from before with a constant offset c:\n",
    "def gaussian(x, I, mu, sigma, c):\n",
    "    return I*np.exp(-(x-mu)*(x-mu)/2/sigma/sigma)+c\n",
    "\n",
    "# Loop over all available columns:\n",
    "for col in ['det_0', 'det_1', 'det_2', 'det_3']:\n",
    "    \n",
    "    # Get a figure.\n",
    "    plt.figure(figsize=(7,5))\n",
    "    \n",
    "    # Plot measurement:\n",
    "    plt.plot(data['time'], data[col], label='measurement')\n",
    "    \n",
    "    # Do the fit and plot the results.\n",
    "    # You will need start parameters this time, especially for the position of the peaks.\n",
    "    # Just read them from the overview plots.\n",
    "    params, cov = curve_fit(gaussian, data['time'], data[col], p0=[40, 10, 1, 5])\n",
    "    \n",
    "    # Print the parameters:\n",
    "    for i, param in enumerate(['I', 'mu', 'sigma', 'c']):\n",
    "        print('%s = %s +/- %s'%(param, params[i], np.sqrt(cov[i,i])))\n",
    "    \n",
    "    # Add things to the plot:\n",
    "    plt.plot(data['time'], gaussian(data['time'], *params), 'r--', label='fit')\n",
    "    plt.xlabel('$t$ in s')\n",
    "    plt.ylabel('$N$ in counts')\n",
    "    plt.legend(loc='best')\n",
    "    plt.show()"
   ]
  },
  {
   "cell_type": "markdown",
   "metadata": {},
   "source": [
    "### 5.2: Inspect correlations\n",
    "\n",
    "You can inspect correlations in data by plotting features against each other. To be able to differentiate the different species, you can plot the classes in different colors with help of the *color='...'* for matplotlib.pyplot.plot(...).\n",
    "\n",
    "Create at least 3 plots with each one feature against another one. Use different colors to differentiate the classes."
   ]
  },
  {
   "cell_type": "code",
   "execution_count": null,
   "metadata": {},
   "outputs": [],
   "source": [
    "# First we need to import pandas:\n",
    "import pandas as pd\n",
    "import matplotlib.pyplot as plt\n",
    "\n",
    "# Read the excel file with read_excel:\n",
    "data = pd.read_csv('iris.csv')"
   ]
  },
  {
   "cell_type": "code",
   "execution_count": null,
   "metadata": {},
   "outputs": [],
   "source": [
    "# Show columns in data:\n",
    "print(data.columns)\n",
    "# show number of rows:\n",
    "print(len(data))"
   ]
  },
  {
   "cell_type": "code",
   "execution_count": null,
   "metadata": {},
   "outputs": [],
   "source": [
    "# We want to plot some features against each other.\n",
    "# We create combinations to access the columns list with indices.\n",
    "\n",
    "pairs = [[0, 1], [1, 2], [2, 3]] \n",
    "# [sep.length - sep.width], [sep.width - pet.length], [pet.length - pet.width]\n",
    "\n",
    "# Let's create a dict for the coloration.\n",
    "# To get the values from the species we can either copy them or use:\n",
    "names = data['species'].unique()\n",
    "#print(names)\n",
    "# This gives us entries only once.\n",
    "\n",
    "# Let's loop over the pairs:\n",
    "for pair in pairs:\n",
    "    # Assign the two used columns:\n",
    "    col1 = data.columns[pair[0]]\n",
    "    col2 = data.columns[pair[1]]\n",
    "    \n",
    "    ### Only one of the following options should be active at a time!\n",
    "    \n",
    "    ##### Solution using masks:\n",
    "    #for name in names:\n",
    "    #    # Using masks to select only wanted values:\n",
    "    #    plt.plot(data[col1][data['species'] == name], data[col2][data['species']==name], '.', label=name)\n",
    "    \n",
    "    ##### Solution using groupby:\n",
    "    for group, values in data.groupby(data['species']):\n",
    "        plt.plot(values[col1], values[col2], '.', label=group)\n",
    "    \n",
    "    \n",
    "    # Add labels and the legend and then show:\n",
    "    plt.xlabel(col1)\n",
    "    plt.ylabel(col2)\n",
    "    plt.legend(loc='best')\n",
    "    plt.show()\n"
   ]
  },
  {
   "cell_type": "markdown",
   "metadata": {
    "scrolled": true
   },
   "source": [
    "### Example 5.3: Plotting fit results\n",
    "\n",
    "First plot the x and y values with their standard deviations. Then use the result of the fit and plot it together with the x and y values. As a last step, complete the plot with three sigma bands of the fit with dashed lines and different colours."
   ]
  },
  {
   "cell_type": "code",
   "execution_count": null,
   "metadata": {},
   "outputs": [],
   "source": [
    "# create data and fit\n",
    "\n",
    "from scipy.odr import *\n",
    "import numpy as np\n",
    "import matplotlib.pyplot as plt\n",
    "\n",
    "#generate test data\n",
    "n = 40\n",
    "x = np.linspace(0, 10, n)\n",
    "xerr = np.abs(np.random.normal(0, 1.5, n)) # random value from a gaussian distribution (µ, sigma, number of values)\n",
    "x = np.random.normal(x, xerr, n)\n",
    "\n",
    "y = np.linspace(0, 20, n)\n",
    "yerr = np.abs(np.random.normal(0, 1.5, n))\n",
    "y = np.random.normal(y, yerr)\n",
    "\n",
    "def odr_line(p, x): #Attention, input parameters have a special order! \n",
    "    #First: Array of fitparamters p\n",
    "    #Second: Array of x values\n",
    "    \n",
    "    # unpack the parameters from array:\n",
    "    a,b=p\n",
    "    y = a*x+b\n",
    "    return y\n",
    "\n",
    "#fit\n",
    "linear = Model(odr_line) # pass the model to be used. In our case a linear function\n",
    "mydata = RealData(x, y, sx=xerr, sy=yerr) #sx, sy : array_like, optional Standard deviations of x and y \n",
    "myodr = ODR(mydata, linear, beta0=[0,0]) # start parameter are not optional\n",
    "output = myodr.run() # run fit \n",
    "print('Fit parameters',output.beta) # get fit parameters\n",
    "print('Standard deviations',output.sd_beta) # get standard deviation of fit parameters"
   ]
  },
  {
   "cell_type": "code",
   "execution_count": null,
   "metadata": {},
   "outputs": [],
   "source": [
    "from uncertainties import unumpy as unp\n",
    "from uncertainties import ufloat\n",
    "from uncertainties.unumpy import (nominal_values as noms, std_devs as stds)\n",
    "\n",
    "\n",
    "slope=ufloat(output.beta[0],output.sd_beta[0])\n",
    "offset=ufloat(output.beta[1],output.sd_beta[1])\n",
    "print(slope, offset)\n",
    "print(noms(slope), stds(slope))\n",
    "\n",
    "\n",
    "slope=ufloat(output.beta[0],output.sd_beta[0])\n",
    "offset=ufloat(output.beta[1],output.sd_beta[1])\n",
    "print(slope, offset)\n",
    "print(noms(slope), stds(slope))\n",
    "\n",
    "y_fit=odr_line(output.beta, x)\n",
    "sigma=stds(odr_line([slope, offset], x))\n",
    "\n",
    "plt.figure(figsize=(11, 7))\n",
    "plt.errorbar(x,y,xerr=xerr, yerr=yerr, fmt='o', label='data', alpha=0.5)\n",
    "plt.plot(x, odr_line(output.beta, x), 'r-', label='fit')\n",
    "\n",
    "plt.plot(x, y_fit+1*sigma, 'g--', label=r'1$\\pm\\sigma$')\n",
    "plt.plot(x, y_fit+2*sigma, 'm--', label=r'2$\\pm\\sigma$')\n",
    "plt.plot(x, y_fit+3*sigma, 'c--', label=r'3$\\pm\\sigma$')\n",
    "\n",
    "plt.plot(x, y_fit-1*sigma, 'g--')\n",
    "plt.plot(x, y_fit-2*sigma, 'm--')\n",
    "plt.plot(x, y_fit-3*sigma, 'c--')\n",
    "plt.legend(loc=\"best\")\n",
    "plt.show()\n",
    "\n",
    "#plt.plot(x, odr_line([output.beta[0]+3*output.sd_beta[0],output.beta[1]+3*output.sd_beta[1]], x), 'm-', label='fit')\n"
   ]
  },
  {
   "cell_type": "code",
   "execution_count": null,
   "metadata": {},
   "outputs": [],
   "source": []
  }
 ],
 "metadata": {
  "kernelspec": {
   "display_name": "Python 3",
   "language": "python",
   "name": "python3"
  },
  "language_info": {
   "codemirror_mode": {
    "name": "ipython",
    "version": 3
   },
   "file_extension": ".py",
   "mimetype": "text/x-python",
   "name": "python",
   "nbconvert_exporter": "python",
   "pygments_lexer": "ipython3",
   "version": "3.9.2"
  }
 },
 "nbformat": 4,
 "nbformat_minor": 2
}
