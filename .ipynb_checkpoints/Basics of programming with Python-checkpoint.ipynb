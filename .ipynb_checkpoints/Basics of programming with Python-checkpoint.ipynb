{
 "cells": [
  {
   "cell_type": "markdown",
   "metadata": {},
   "source": [
    "# Basics of programming with Python\n",
    "This tutorial covers the basic on how a Python program is built."
   ]
  },
  {
   "cell_type": "markdown",
   "metadata": {
    "slideshow": {
     "slide_type": "slide"
    }
   },
   "source": [
    "## 1. comments\n",
    "\n",
    "In most cases, python syntax is quite intuitive and is similar to \"pseudocode\". You can toggle a code line with Ctrl+# to comment in or out quickly."
   ]
  },
  {
   "cell_type": "code",
   "execution_count": 152,
   "metadata": {
    "slideshow": {
     "slide_type": "fragment"
    }
   },
   "outputs": [],
   "source": [
    "# comments are inserted like this\n",
    "'''\n",
    "Multiline comments can be used as well \n",
    "either by multiple '#' or \n",
    "this way\n",
    "''';\n",
    "# with a semicolon the output can be surpressed in interactive sessions.\n",
    "# also, you can put multiple lines in one line but that looks bad. You generally do NOT need them."
   ]
  },
  {
   "cell_type": "markdown",
   "metadata": {
    "slideshow": {
     "slide_type": "slide"
    }
   },
   "source": [
    "## 2. variable assignments and simple calculator operations"
   ]
  },
  {
   "cell_type": "code",
   "execution_count": 153,
   "metadata": {
    "slideshow": {
     "slide_type": "fragment"
    }
   },
   "outputs": [],
   "source": [
    "# assign a variable\n",
    "a = 1\n",
    "\n",
    "# multiple assignment\n",
    "b = c = d = 0\n",
    "\n",
    "# common math operators\n",
    "e = a + b + c + d\n",
    "f = 2*a\n",
    "g = f**2\n",
    "h = 2/g\n",
    "\n",
    "# modulo operator\n",
    "res = 13%5 \n",
    "# integer division\n",
    "h = 2//g"
   ]
  },
  {
   "cell_type": "markdown",
   "metadata": {
    "slideshow": {
     "slide_type": "subslide"
    }
   },
   "source": [
    "### print(...) - function for variable display\n",
    "All python functions can be displayed during execution using the print(variable) function"
   ]
  },
  {
   "cell_type": "code",
   "execution_count": 154,
   "metadata": {
    "slideshow": {
     "slide_type": "fragment"
    }
   },
   "outputs": [
    {
     "name": "stdout",
     "output_type": "stream",
     "text": [
      "0\n",
      "0 4 1\n"
     ]
    }
   ],
   "source": [
    "# display variables e.g. using print(...)\n",
    "print(h)\n",
    "print(h, g, a)"
   ]
  },
  {
   "cell_type": "markdown",
   "metadata": {
    "slideshow": {
     "slide_type": "slide"
    }
   },
   "source": [
    "## 3. python data type handling\n",
    "python automatically converts data types as needed and \"on the fly\". Variables can be reassigned with a new value of any type at any time. So be careful with your variable names as this can lead to very confusing errors!!\n",
    "The data type of something can be checked with type(...)"
   ]
  },
  {
   "cell_type": "markdown",
   "metadata": {
    "slideshow": {
     "slide_type": "subslide"
    }
   },
   "source": [
    "### numbers"
   ]
  },
  {
   "cell_type": "code",
   "execution_count": 155,
   "metadata": {
    "slideshow": {
     "slide_type": "fragment"
    }
   },
   "outputs": [
    {
     "name": "stdout",
     "output_type": "stream",
     "text": [
      "<class 'int'>\n",
      "<class 'float'>\n"
     ]
    }
   ],
   "source": [
    "# int and float are casted into each other as needed \n",
    "h = 2\n",
    "print(type(h))\n",
    "h = h/2\n",
    "print(type(h))"
   ]
  },
  {
   "cell_type": "markdown",
   "metadata": {
    "slideshow": {
     "slide_type": "subslide"
    }
   },
   "source": [
    "### strings"
   ]
  },
  {
   "cell_type": "code",
   "execution_count": 22,
   "metadata": {
    "slideshow": {
     "slide_type": "fragment"
    }
   },
   "outputs": [
    {
     "name": "stdout",
     "output_type": "stream",
     "text": [
      "<class 'str'>\n",
      "this is a string for example\n",
      "Go! Go! Go! \n"
     ]
    }
   ],
   "source": [
    "# strings \n",
    "myText = 'this is a string'\n",
    "print(type(myText))\n",
    "\n",
    "# strings can be seen as dynamic lists compared to c++:\n",
    "myText += ' for example' # newText += addition is equivalent to newText = myText + addition\n",
    "print(myText)\n",
    "\n",
    "# some operations can be performed on strings\n",
    "go = 'Go! '\n",
    "print(3*go)"
   ]
  },
  {
   "cell_type": "markdown",
   "metadata": {
    "slideshow": {
     "slide_type": "subslide"
    }
   },
   "source": [
    "### string format\n",
    "formatting a variable or literally anything into a string for printing, saving to txt,... is very often used in python. It is quite easy done by one of the three following different methods:"
   ]
  },
  {
   "cell_type": "code",
   "execution_count": 23,
   "metadata": {
    "slideshow": {
     "slide_type": "fragment"
    }
   },
   "outputs": [
    {
     "name": "stdout",
     "output_type": "stream",
     "text": [
      "Cast and append:\n",
      "the answer is 42\n",
      "the answer is  42\n",
      "\n",
      "\n"
     ]
    }
   ],
   "source": [
    "# numbers can be inserted into strings in several ways:\n",
    "#casting and appending:\n",
    "print('Cast and append:')\n",
    "print('the answer is '+ str(42))\n",
    "print('the answer is ', 42)\n",
    "print('\\n')"
   ]
  },
  {
   "cell_type": "markdown",
   "metadata": {
    "slideshow": {
     "slide_type": "subslide"
    }
   },
   "source": [
    "#### 'new style' string format\n",
    "Using the 'new style' string format, you can insert a {} keyword in your string. You can then append '{}'.format(var) to format the var into the string. The notation can cause trouble using latex at the same time. There are other ways to format a string, maybe you know about it or will learn about it later"
   ]
  },
  {
   "cell_type": "code",
   "execution_count": 42,
   "metadata": {},
   "outputs": [
    {
     "name": "stdout",
     "output_type": "stream",
     "text": [
      "String format:\n"
     ]
    },
    {
     "data": {
      "text/plain": [
       "'this is number 1'"
      ]
     },
     "execution_count": 42,
     "metadata": {},
     "output_type": "execute_result"
    }
   ],
   "source": [
    "# string format:\n",
    "print('String format:')\n",
    "'this is number {}'.format(1)"
   ]
  },
  {
   "cell_type": "code",
   "execution_count": 49,
   "metadata": {},
   "outputs": [
    {
     "data": {
      "text/plain": [
       "'We are learning programming'"
      ]
     },
     "execution_count": 49,
     "metadata": {},
     "output_type": "execute_result"
    }
   ],
   "source": [
    "# You can use positional informations for the string formatting\n",
    "'{0} {1}'.format('We are', 'learning programming')"
   ]
  },
  {
   "cell_type": "code",
   "execution_count": 50,
   "metadata": {},
   "outputs": [
    {
     "data": {
      "text/plain": [
       "'learning programming We are'"
      ]
     },
     "execution_count": 50,
     "metadata": {},
     "output_type": "execute_result"
    }
   ],
   "source": [
    "'{1} {0}'.format('We are', 'learning programming')"
   ]
  },
  {
   "cell_type": "code",
   "execution_count": 53,
   "metadata": {},
   "outputs": [
    {
     "data": {
      "text/plain": [
       "'We are learning programming !!!1!1!!'"
      ]
     },
     "execution_count": 53,
     "metadata": {},
     "output_type": "execute_result"
    }
   ],
   "source": [
    "# arguments' indices can be repeated\n",
    "'{0} {1} {2}{3}{2}'.format('We are', 'learning programming', '!!', '!1!1')   "
   ]
  },
  {
   "cell_type": "code",
   "execution_count": 54,
   "metadata": {},
   "outputs": [
    {
     "name": "stdout",
     "output_type": "stream",
     "text": [
      "i want it displayed like this: 004\n",
      "or maybe like this: 4.0000\n",
      "or with the example above: 1 / 10\n"
     ]
    }
   ],
   "source": [
    "# after the :, you can specify how a number is supposed to be formatted for printing:\n",
    "line_1 = 'i want it displayed like this: {:03}'.format(4)\n",
    "line_2 = 'or maybe like this: {:.4f}'.format(4)\n",
    "line_3 = 'or with the example above: {} / {}'.format(1, 10)\n",
    "\n",
    "print(line_1)\n",
    "print(line_2)\n",
    "print(line_3)"
   ]
  },
  {
   "cell_type": "markdown",
   "metadata": {},
   "source": [
    "#### inline formatting\n",
    "If you are lazy to write the .format(...) behind the strings, you can either google the 'old' format style or use inline formatting by prepending an 'f' to the string:"
   ]
  },
  {
   "cell_type": "code",
   "execution_count": 94,
   "metadata": {},
   "outputs": [
    {
     "data": {
      "text/plain": [
       "'This is a inline formatted string writing line_1: i want it displayed like this: 004'"
      ]
     },
     "execution_count": 94,
     "metadata": {},
     "output_type": "execute_result"
    }
   ],
   "source": [
    "f'This is a inline formatted string writing line_1: {line_1}'"
   ]
  },
  {
   "cell_type": "code",
   "execution_count": 95,
   "metadata": {},
   "outputs": [
    {
     "data": {
      "text/plain": [
       "'Inline formatting can also format numbers like 0015 or 2.12'"
      ]
     },
     "execution_count": 95,
     "metadata": {},
     "output_type": "execute_result"
    }
   ],
   "source": [
    "# this works but it looks weird\n",
    "integer_number = 15\n",
    "float_number = 2.12353514\n",
    "f'Inline formatting can also format numbers like {integer_number:04} or {float_number:.2f}'"
   ]
  },
  {
   "cell_type": "markdown",
   "metadata": {
    "slideshow": {
     "slide_type": "subslide"
    }
   },
   "source": [
    "### bool"
   ]
  },
  {
   "cell_type": "code",
   "execution_count": 104,
   "metadata": {
    "slideshow": {
     "slide_type": "fragment"
    }
   },
   "outputs": [
    {
     "name": "stdout",
     "output_type": "stream",
     "text": [
      "False\n",
      "The answer for (A != B) is: True\n",
      "True\n",
      "True\n"
     ]
    }
   ],
   "source": [
    "A = True\n",
    "B = False\n",
    "\n",
    "# compare values with == or !=\n",
    "print(A == B)\n",
    "print('The answer for (A != B) is:', (A != B))\n",
    "\n",
    "# greater, less and less/greater equal\n",
    "print(2 <= 2)\n",
    "print(3 > 2)"
   ]
  },
  {
   "cell_type": "code",
   "execution_count": 105,
   "metadata": {
    "slideshow": {
     "slide_type": "fragment"
    }
   },
   "outputs": [
    {
     "name": "stdout",
     "output_type": "stream",
     "text": [
      "False\n",
      "True\n",
      "False\n",
      "Is this data a bool? True\n"
     ]
    }
   ],
   "source": [
    "# logical connections are quite intuitive\n",
    "print(True and False)\n",
    "print(True or False)\n",
    "print(not True)\n",
    "\n",
    "# quite useful to test data types: isinstance(var, type)\n",
    "a = False\n",
    "print('Is this data a bool?', (isinstance(a, bool)))"
   ]
  },
  {
   "cell_type": "markdown",
   "metadata": {
    "slideshow": {
     "slide_type": "subslide"
    }
   },
   "source": [
    "### list\n",
    "Lists work somehow very similar to dynamic c++ lists except they can contain any data type. Elements are accessed c++ style."
   ]
  },
  {
   "cell_type": "code",
   "execution_count": 57,
   "metadata": {
    "slideshow": {
     "slide_type": "fragment"
    }
   },
   "outputs": [
    {
     "name": "stdout",
     "output_type": "stream",
     "text": [
      "[1, 'number', True]\n",
      "number\n",
      "[1]\n",
      "['number', True]\n",
      "True\n",
      "3\n"
     ]
    }
   ],
   "source": [
    "a = [ 1, 'number', True]\n",
    "print(a)\n",
    "print(a[1])\n",
    "\n",
    "# 'slices' can be obtained with ':'. The last element is not included!\n",
    "# without a specified start or end, the beginning or end of the list is used\n",
    "print(a[0:1])\n",
    "print(a[1:])\n",
    "\n",
    "# indices can be negative, they are counted from the end of the list then\n",
    "print(a[-1])\n",
    "\n",
    "# often useful:\n",
    "print(len(a))"
   ]
  },
  {
   "cell_type": "code",
   "execution_count": 97,
   "metadata": {},
   "outputs": [
    {
     "name": "stdout",
     "output_type": "stream",
     "text": [
      "False\n",
      "True\n"
     ]
    }
   ],
   "source": [
    "# useful in many occasions:\n",
    "print(1 in [2,3,4,5])\n",
    "print(1 in [1,2,3,4,5])"
   ]
  },
  {
   "cell_type": "code",
   "execution_count": 99,
   "metadata": {},
   "outputs": [
    {
     "name": "stdout",
     "output_type": "stream",
     "text": [
      "True\n"
     ]
    }
   ],
   "source": [
    "print('part' in 'mywordlistparts')"
   ]
  },
  {
   "cell_type": "markdown",
   "metadata": {
    "slideshow": {
     "slide_type": "subslide"
    }
   },
   "source": [
    "### inplace operations\n",
    "lists are modified inplace with their methods. This can be handy but also lead to strange results as the methods do not have return values to print them for example.\n",
    "If you write some code yourself, you should probably avoid creating inplace methods."
   ]
  },
  {
   "cell_type": "code",
   "execution_count": 100,
   "metadata": {
    "slideshow": {
     "slide_type": "fragment"
    }
   },
   "outputs": [
    {
     "name": "stdout",
     "output_type": "stream",
     "text": [
      "[1, 4, 3, 2, 'New element']\n",
      "[1, 4, 3, 2, 'New element', [2, 3]]\n",
      "[1, 4, 3, 2, 'New element']\n",
      "[1, 4, 3, 2, 'New element', 2, 3]\n",
      "[1, 4, 3, 2, 'New element', 2, 3]\n"
     ]
    }
   ],
   "source": [
    "\n",
    "# lists can be extended inplace\n",
    "a.append('New element')\n",
    "print(a)\n",
    "#print('the list a has the length:', len(a)) # for showing this, reload the pad below 'list'\n",
    "\n",
    "# appending a list leads to a list in a list...\n",
    "a.append([2, 3])\n",
    "print(a)\n",
    "#print('the list a has the length:', len(a)) # for showing this, reload the pad below 'list'\n",
    "\n",
    "# very useful: removing elements is very easy\n",
    "a.remove([2, 3])\n",
    "print(a)\n",
    "\n",
    "# lists can be merged easily:\n",
    "print(a+[2,3])\n",
    "a.extend([2,3])\n",
    "print(a)"
   ]
  },
  {
   "cell_type": "code",
   "execution_count": 101,
   "metadata": {},
   "outputs": [
    {
     "data": {
      "text/plain": [
       "True"
      ]
     },
     "execution_count": 101,
     "metadata": {},
     "output_type": "execute_result"
    }
   ],
   "source": [
    "# useful boolean operations for lists:\n",
    "any([True, False, False])"
   ]
  },
  {
   "cell_type": "code",
   "execution_count": 102,
   "metadata": {},
   "outputs": [
    {
     "data": {
      "text/plain": [
       "False"
      ]
     },
     "execution_count": 102,
     "metadata": {},
     "output_type": "execute_result"
    }
   ],
   "source": [
    "all([True, False, False])"
   ]
  },
  {
   "cell_type": "code",
   "execution_count": 106,
   "metadata": {},
   "outputs": [
    {
     "name": "stdout",
     "output_type": "stream",
     "text": [
      "This list has length 4\n",
      "The max value is 4\n",
      "The min value is 1\n",
      "The sorted list is:  [1, 2, 3, 4]\n"
     ]
    }
   ],
   "source": [
    "# other useful built-in functions that can apply to lists\n",
    "a = [1,4,3,2]\n",
    "print(\"This list has length\", len(a) )\n",
    "\n",
    "print(\"The max value is\", max(a))\n",
    "\n",
    "print(\"The min value is\", min(a))\n",
    "\n",
    "print(\"The sorted list is: \", sorted(a))"
   ]
  },
  {
   "cell_type": "code",
   "execution_count": 109,
   "metadata": {},
   "outputs": [
    {
     "name": "stdout",
     "output_type": "stream",
     "text": [
      "10\n",
      "t\n",
      "e\n",
      "['e', 'g', 'i', 'n', 'r', 's', 's', 't', 't', 't']\n"
     ]
    }
   ],
   "source": [
    "# just so you know:\n",
    "print( len('teststring') )\n",
    "print( max('teststring') )\n",
    "print( min('teststring') )\n",
    "print( sorted('teststring') )"
   ]
  },
  {
   "cell_type": "markdown",
   "metadata": {
    "slideshow": {
     "slide_type": "subslide"
    }
   },
   "source": [
    "### Example 3.1: Manual list sorting\n",
    "Take the list and resort it:\n",
    "- [9, 0, 8, 1, 7, 2, 6, 3, 5, 4]\n",
    "- [4, 5, 6, 0, 1, 3, 2, 7, 9, 8]"
   ]
  },
  {
   "cell_type": "markdown",
   "metadata": {
    "slideshow": {
     "slide_type": "subslide"
    }
   },
   "source": [
    "### dict\n",
    "dicts are probably one of the greatest things in python! Extremly useful and intuitive."
   ]
  },
  {
   "cell_type": "code",
   "execution_count": 118,
   "metadata": {
    "slideshow": {
     "slide_type": "fragment"
    }
   },
   "outputs": [],
   "source": [
    "# dicts are useful to have a single variable holding different alternatives you can call from\n",
    "myDict = {\n",
    "    'raw_data': 'fit_linear',\n",
    "    'processed_data': 'fit_quadratic'\n",
    " }\n",
    "\n",
    "# things like this can take out a lot of if/else work and allow you to pass for example options around easily"
   ]
  },
  {
   "cell_type": "code",
   "execution_count": 117,
   "metadata": {},
   "outputs": [
    {
     "data": {
      "text/plain": [
       "'this is a sentence'"
      ]
     },
     "execution_count": 117,
     "metadata": {},
     "output_type": "execute_result"
    }
   ],
   "source": [
    "myDict['raw_data']"
   ]
  },
  {
   "cell_type": "code",
   "execution_count": 125,
   "metadata": {},
   "outputs": [],
   "source": [
    "# you can literally store any python object in dicts\n",
    "d = {\n",
    "    'hello': \"Hello there\",\n",
    "    'name': 'TestUser',\n",
    "    'print': print,\n",
    "    print: 'This is a print function'\n",
    " }"
   ]
  },
  {
   "cell_type": "code",
   "execution_count": 131,
   "metadata": {},
   "outputs": [
    {
     "name": "stdout",
     "output_type": "stream",
     "text": [
      "Hello there\n",
      "TestUser\n"
     ]
    },
    {
     "data": {
      "text/plain": [
       "'This is a print function'"
      ]
     },
     "execution_count": 131,
     "metadata": {},
     "output_type": "execute_result"
    }
   ],
   "source": [
    "# if a dict returns a function, you can call it like you would normally do. \n",
    "# possible application: fit data sets with different fit functions depending on their filename\n",
    "# And: Nothing stops you from using functions as dict key\n",
    "d['print'](d['hello'])\n",
    "d['print'](d['name'])\n",
    "d[print]"
   ]
  },
  {
   "cell_type": "code",
   "execution_count": 132,
   "metadata": {},
   "outputs": [
    {
     "data": {
      "text/plain": [
       "dict_keys(['hello', 'name', 'print'])"
      ]
     },
     "execution_count": 132,
     "metadata": {},
     "output_type": "execute_result"
    }
   ],
   "source": [
    "# some important methods when working with dicts:\n",
    "myDict.keys()"
   ]
  },
  {
   "cell_type": "code",
   "execution_count": 133,
   "metadata": {},
   "outputs": [
    {
     "data": {
      "text/plain": [
       "dict_values(['Hello there', 'TestUser', <built-in function print>])"
      ]
     },
     "execution_count": 133,
     "metadata": {},
     "output_type": "execute_result"
    }
   ],
   "source": [
    "myDict.values()"
   ]
  },
  {
   "cell_type": "code",
   "execution_count": 134,
   "metadata": {},
   "outputs": [
    {
     "data": {
      "text/plain": [
       "dict_items([('hello', 'Hello there'), ('name', 'TestUser'), ('print', <built-in function print>)])"
      ]
     },
     "execution_count": 134,
     "metadata": {},
     "output_type": "execute_result"
    }
   ],
   "source": [
    "myDict.items()"
   ]
  },
  {
   "cell_type": "markdown",
   "metadata": {
    "slideshow": {
     "slide_type": "slide"
    }
   },
   "source": [
    "## 4. Functions\n",
    "Functions are very useful to keep code short and reuse lines. The syntax for a function is shown below:"
   ]
  },
  {
   "cell_type": "code",
   "execution_count": 135,
   "metadata": {
    "slideshow": {
     "slide_type": "fragment"
    }
   },
   "outputs": [
    {
     "name": "stdout",
     "output_type": "stream",
     "text": [
      "5\n",
      "(5, 2, 3)\n",
      "5 2 3\n"
     ]
    }
   ],
   "source": [
    "# 1. A function definition starts with the keyword 'def'.\n",
    "# 2. The keyword is followed by the function name.\n",
    "# 3. In brackets follow the function argument/s.\n",
    "def function(argument1, argument2):\n",
    "    value = argument1 + argument2\n",
    "    return value\n",
    "\n",
    "print(function(2, 3))\n",
    "\n",
    "# you can return multiple values ...\n",
    "def function(argument1, argument2):\n",
    "    value = argument1 + argument2\n",
    "    return value, argument1, argument2\n",
    "\n",
    "print(function(2, 3))\n",
    "\n",
    "# ... or directly assign them to different variables\n",
    "def function(argument1, argument2):\n",
    "    value = argument1 + argument2\n",
    "    return value, argument1, argument2\n",
    "\n",
    "a, b, c = function(2, 3)\n",
    "print(a, b, c)"
   ]
  },
  {
   "cell_type": "markdown",
   "metadata": {},
   "source": [
    "### Unpacking variable lists: the * operator\n",
    "Sometimes you want to pass a list of parameters to a function:\n",
    "\n",
    "    y = fit_function(x, a, b, c, d, e, f, g, h)\n",
    "\n",
    "This can be really annoying to do... If you have the values for the parameters a - h stored in a list, you can 'unpack' them into the function:\n"
   ]
  },
  {
   "cell_type": "code",
   "execution_count": 138,
   "metadata": {},
   "outputs": [
    {
     "name": "stdout",
     "output_type": "stream",
     "text": [
      "I received the arguments a=1, b=2, c=3, d=4, e=5\n"
     ]
    }
   ],
   "source": [
    "def function_with_many_arguments(a, b, c, d, e):\n",
    "    print(\"I received the arguments a={}, b={}, c={}, d={}, e={}\".format(a, b, c, d, e))\n",
    "    \n",
    "function_with_many_arguments(1, 2, 3, 4, 5)"
   ]
  },
  {
   "cell_type": "code",
   "execution_count": 139,
   "metadata": {},
   "outputs": [
    {
     "name": "stdout",
     "output_type": "stream",
     "text": [
      "I received the arguments a=1, b=2, c=3, d=4, e=5\n"
     ]
    }
   ],
   "source": [
    "params = [1,2,3,4,5]\n",
    "function_with_many_arguments(*params)"
   ]
  },
  {
   "cell_type": "markdown",
   "metadata": {},
   "source": [
    "If you didn't know this: probably could have saved you from some pain in the lab exercises I think"
   ]
  },
  {
   "cell_type": "markdown",
   "metadata": {
    "slideshow": {
     "slide_type": "slide"
    }
   },
   "source": [
    "## 5. Control Structures\n",
    "Control structures in python are quite similar to the ones in c++ except they look like pseudo code"
   ]
  },
  {
   "cell_type": "markdown",
   "metadata": {
    "slideshow": {
     "slide_type": "subslide"
    }
   },
   "source": [
    "### if/ else"
   ]
  },
  {
   "cell_type": "code",
   "execution_count": null,
   "metadata": {
    "slideshow": {
     "slide_type": "fragment"
    }
   },
   "outputs": [],
   "source": [
    "v = 2.7\n",
    "if v <= 1.5:\n",
    "    print('A')\n",
    "elif v <= 2.5:\n",
    "    print('B')\n",
    "elif v <= 3.5:\n",
    "    print('C')\n",
    "elif v <= 4:\n",
    "    print('D')\n",
    "else:\n",
    "    print('not passed')"
   ]
  },
  {
   "cell_type": "markdown",
   "metadata": {
    "slideshow": {
     "slide_type": "subslide"
    }
   },
   "source": [
    "### Example 5.1: leap year calculator\n",
    "Write a function which you can pass a year to and it tells you whether the year is a leap year or not. A year is a leap year, if it can be completely divided by 4, but not, if it can also be divided completely by 100, but again it is, if completely divisible by 400. The answer should have a similar form to:\n",
    "\n",
    "    leap_year_calc(2000)\n",
    "    --> \"the year 2000 is a leap year!\"\n",
    "\n",
    "Test your function with the years: 2000 (True), 2004 (True), 2018 (False), 2100 (False)\n",
    "\n",
    "ADDITIONAL task: Tell the function caller the reason.\n"
   ]
  },
  {
   "cell_type": "markdown",
   "metadata": {
    "slideshow": {
     "slide_type": "subslide"
    }
   },
   "source": [
    "### for"
   ]
  },
  {
   "cell_type": "code",
   "execution_count": 81,
   "metadata": {
    "slideshow": {
     "slide_type": "fragment"
    }
   },
   "outputs": [
    {
     "name": "stdout",
     "output_type": "stream",
     "text": [
      "0\n",
      "1\n",
      "2\n",
      "\n",
      "\n",
      "2\n",
      "3\n",
      "5\n",
      "\n",
      "\n",
      "2\n",
      "3\n",
      "5\n"
     ]
    }
   ],
   "source": [
    "# very useful: range(x)\n",
    "for i in range(3):\n",
    "    print(i)\n",
    "    \n",
    "print('\\n')\n",
    "# python classic: loop over lists\n",
    "primes = [2, 3, 5]\n",
    "for n in primes:\n",
    "    print(n)\n",
    "\n",
    "print('\\n')\n",
    "#you can give the counting variable any name\n",
    "for prime in primes:\n",
    "    print(prime)"
   ]
  },
  {
   "cell_type": "code",
   "execution_count": 150,
   "metadata": {},
   "outputs": [
    {
     "name": "stdout",
     "output_type": "stream",
     "text": [
      "0\n",
      "1\n",
      "2\n",
      "3\n"
     ]
    }
   ],
   "source": [
    "# you can stop a loop with 'break'\n",
    "for i in range(10):\n",
    "\n",
    "    if i == 4:\n",
    "        break \n",
    "        \n",
    "    print(i)"
   ]
  },
  {
   "cell_type": "code",
   "execution_count": 151,
   "metadata": {},
   "outputs": [
    {
     "name": "stdout",
     "output_type": "stream",
     "text": [
      "0\n",
      "1\n",
      "2\n",
      "3\n",
      "5\n",
      "6\n",
      "7\n",
      "8\n",
      "9\n"
     ]
    }
   ],
   "source": [
    "# you can skip one element of the loop with 'continue'\n",
    "for i in range(10):\n",
    "    \n",
    "    if i == 4:\n",
    "        continue \n",
    "        \n",
    "    print(i)"
   ]
  },
  {
   "cell_type": "code",
   "execution_count": 82,
   "metadata": {
    "slideshow": {
     "slide_type": "fragment"
    }
   },
   "outputs": [
    {
     "name": "stdout",
     "output_type": "stream",
     "text": [
      "\n",
      "\n",
      "w\n",
      "o\n",
      "r\n",
      "d\n",
      "\n",
      "\n",
      "The 1. letter is w\n",
      "The 2. letter is o\n",
      "The 3. letter is r\n",
      "The 4. letter is d\n",
      "\n",
      "\n",
      "number 1\n",
      "word hi\n",
      "sentence this is a sentence\n",
      "True nice!\n",
      "function <built-in function print>\n",
      "\n",
      "\n",
      "1\n",
      "hi\n",
      "this is a sentence\n",
      "nice!\n",
      "<built-in function print>\n"
     ]
    }
   ],
   "source": [
    "print('\\n')\n",
    "# you can loop over strings as well:\n",
    "for letter in 'word':\n",
    "    print(letter)\n",
    "\n",
    "print('\\n')\n",
    "# often very useful: enumerate(x)\n",
    "for i, letter in enumerate('word', 1):\n",
    "    print('The {}. letter is {}'.format(i, letter))\n",
    "    \n",
    "print('\\n')\n",
    "# also usable for dicts:\n",
    "for key, value in myDict.items():\n",
    "    print(key, value)\n",
    "\n",
    "print('\\n')\n",
    "for key in myDict:\n",
    "    print(myDict[key])"
   ]
  },
  {
   "cell_type": "markdown",
   "metadata": {},
   "source": [
    "#### iterables\n",
    "The group of Python objects that allow those loop operations are called 'iterables'. You will encounter them here and there and they are very useful."
   ]
  },
  {
   "cell_type": "markdown",
   "metadata": {
    "slideshow": {
     "slide_type": "subslide"
    }
   },
   "source": [
    "#### Example 5.2: Processing multiple objects using lists\n",
    "Write a for loop, that processes all years given in the last example.\n",
    "\n",
    "\n",
    "#### Example 5.3: Fibonacci numbers\n",
    "Write a function that returns a list of fibonacci numbers up to a given threshold.\n",
    "Fibonacci numbers are defined by starting from [1,1] always appending the sum of the two former elements to the list --> [1,1,2] --> [1,1,2,3]"
   ]
  },
  {
   "cell_type": "markdown",
   "metadata": {
    "slideshow": {
     "slide_type": "subslide"
    }
   },
   "source": [
    "### while"
   ]
  },
  {
   "cell_type": "code",
   "execution_count": 84,
   "metadata": {
    "slideshow": {
     "slide_type": "fragment"
    }
   },
   "outputs": [
    {
     "name": "stdout",
     "output_type": "stream",
     "text": [
      "4\n"
     ]
    }
   ],
   "source": [
    "i = 1\n",
    "while i < 4:\n",
    "    i += 1\n",
    "print(i)"
   ]
  },
  {
   "cell_type": "markdown",
   "metadata": {},
   "source": [
    "## 6. Reading and writing files\n",
    "Reading and writing files is a very common task in programming. Although a lot of packages you will use have their own routines on how to read and write data, we will briefly look at how to do it in a simple way"
   ]
  },
  {
   "cell_type": "code",
   "execution_count": 145,
   "metadata": {},
   "outputs": [],
   "source": [
    "file_name = 'simple_data_set.csv'\n",
    "f = open(file_name, 'r')"
   ]
  },
  {
   "cell_type": "code",
   "execution_count": 147,
   "metadata": {},
   "outputs": [
    {
     "name": "stdout",
     "output_type": "stream",
     "text": [
      "sepal_length,sepal_width,petal_length,petal_width,species\n",
      "\n",
      "5.1,3.5,1.4,0.2,setosa\n",
      "\n",
      "4.9,3.0,1.4,0.2,setosa\n",
      "\n",
      "4.7,3.2,1.3,0.2,setosa\n",
      "\n",
      "4.6,3.1,1.5,0.2,setosa\n",
      "\n",
      "5.0,3.6,1.4,0.2,setosa\n",
      "\n",
      "5.4,3.9,1.7,0.4,setosa\n",
      "\n",
      "4.6,3.4,1.4,0.3,setosa\n",
      "\n",
      "5.0,3.4,1.5,0.2,setosa\n",
      "\n",
      "4.4,2.9,1.4,0.2,setosa\n",
      "\n",
      "4.9,3.1,1.5,0.1,setosa\n",
      "\n",
      "5.4,3.7,1.5,0.2,setosa\n",
      "\n",
      "4.8,3.4,1.6,0.2,setosa\n",
      "\n",
      "4.8,3.0,1.4,0.1,setosa\n",
      "\n",
      "4.3,3.0,1.1,0.1,setosa\n",
      "\n",
      "5.8,4.0,1.2,0.2,setosa\n",
      "\n",
      "5.7,4.4,1.5,0.4,setosa\n",
      "\n",
      "5.4,3.9,1.3,0.4,setosa\n",
      "\n",
      "5.1,3.5,1.4,0.3,setosa\n",
      "\n",
      "5.7,3.8,1.7,0.3,setosa\n",
      "\n",
      "5.1,3.8,1.5,0.3,setosa\n",
      "\n",
      "5.4,3.4,1.7,0.2,setosa\n",
      "\n",
      "5.1,3.7,1.5,0.4,setosa\n",
      "\n",
      "4.6,3.6,1.0,0.2,setosa\n",
      "\n",
      "5.1,3.3,1.7,0.5,setosa\n",
      "\n",
      "4.8,3.4,1.9,0.2,setosa\n",
      "\n",
      "5.0,3.0,1.6,0.2,setosa\n",
      "\n",
      "5.0,3.4,1.6,0.4,setosa\n",
      "\n",
      "5.2,3.5,1.5,0.2,setosa\n",
      "\n",
      "5.2,3.4,1.4,0.2,setosa\n",
      "\n",
      "4.7,3.2,1.6,0.2,setosa\n",
      "\n",
      "4.8,3.1,1.6,0.2,setosa\n",
      "\n",
      "5.4,3.4,1.5,0.4,setosa\n",
      "\n",
      "5.2,4.1,1.5,0.1,setosa\n",
      "\n",
      "5.5,4.2,1.4,0.2,setosa\n",
      "\n",
      "4.9,3.1,1.5,0.1,setosa\n",
      "\n",
      "5.0,3.2,1.2,0.2,setosa\n",
      "\n",
      "5.5,3.5,1.3,0.2,setosa\n",
      "\n",
      "4.9,3.1,1.5,0.1,setosa\n",
      "\n",
      "4.4,3.0,1.3,0.2,setosa\n",
      "\n",
      "5.1,3.4,1.5,0.2,setosa\n",
      "\n",
      "5.0,3.5,1.3,0.3,setosa\n",
      "\n",
      "4.5,2.3,1.3,0.3,setosa\n",
      "\n",
      "4.4,3.2,1.3,0.2,setosa\n",
      "\n",
      "5.0,3.5,1.6,0.6,setosa\n",
      "\n",
      "5.1,3.8,1.9,0.4,setosa\n",
      "\n",
      "4.8,3.0,1.4,0.3,setosa\n",
      "\n",
      "5.1,3.8,1.6,0.2,setosa\n",
      "\n",
      "4.6,3.2,1.4,0.2,setosa\n",
      "\n",
      "5.3,3.7,1.5,0.2,setosa\n",
      "\n",
      "5.0,3.3,1.4,0.2,setosa\n",
      "\n",
      "7.0,3.2,4.7,1.4,versicolor\n",
      "\n",
      "6.4,3.2,4.5,1.5,versicolor\n",
      "\n",
      "6.9,3.1,4.9,1.5,versicolor\n",
      "\n",
      "5.5,2.3,4.0,1.3,versicolor\n",
      "\n",
      "6.5,2.8,4.6,1.5,versicolor\n",
      "\n",
      "5.7,2.8,4.5,1.3,versicolor\n",
      "\n",
      "6.3,3.3,4.7,1.6,versicolor\n",
      "\n",
      "4.9,2.4,3.3,1.0,versicolor\n",
      "\n",
      "6.6,2.9,4.6,1.3,versicolor\n",
      "\n",
      "5.2,2.7,3.9,1.4,versicolor\n",
      "\n",
      "5.0,2.0,3.5,1.0,versicolor\n",
      "\n",
      "5.9,3.0,4.2,1.5,versicolor\n",
      "\n",
      "6.0,2.2,4.0,1.0,versicolor\n",
      "\n",
      "6.1,2.9,4.7,1.4,versicolor\n",
      "\n",
      "5.6,2.9,3.6,1.3,versicolor\n",
      "\n",
      "6.7,3.1,4.4,1.4,versicolor\n",
      "\n",
      "5.6,3.0,4.5,1.5,versicolor\n",
      "\n",
      "5.8,2.7,4.1,1.0,versicolor\n",
      "\n",
      "6.2,2.2,4.5,1.5,versicolor\n",
      "\n",
      "5.6,2.5,3.9,1.1,versicolor\n",
      "\n",
      "5.9,3.2,4.8,1.8,versicolor\n",
      "\n",
      "6.1,2.8,4.0,1.3,versicolor\n",
      "\n",
      "6.3,2.5,4.9,1.5,versicolor\n",
      "\n",
      "6.1,2.8,4.7,1.2,versicolor\n",
      "\n",
      "6.4,2.9,4.3,1.3,versicolor\n",
      "\n",
      "6.6,3.0,4.4,1.4,versicolor\n",
      "\n",
      "6.8,2.8,4.8,1.4,versicolor\n",
      "\n",
      "6.7,3.0,5.0,1.7,versicolor\n",
      "\n",
      "6.0,2.9,4.5,1.5,versicolor\n",
      "\n",
      "5.7,2.6,3.5,1.0,versicolor\n",
      "\n",
      "5.5,2.4,3.8,1.1,versicolor\n",
      "\n",
      "5.5,2.4,3.7,1.0,versicolor\n",
      "\n",
      "5.8,2.7,3.9,1.2,versicolor\n",
      "\n",
      "6.0,2.7,5.1,1.6,versicolor\n",
      "\n",
      "5.4,3.0,4.5,1.5,versicolor\n",
      "\n",
      "6.0,3.4,4.5,1.6,versicolor\n",
      "\n",
      "6.7,3.1,4.7,1.5,versicolor\n",
      "\n",
      "6.3,2.3,4.4,1.3,versicolor\n",
      "\n",
      "5.6,3.0,4.1,1.3,versicolor\n",
      "\n",
      "5.5,2.5,4.0,1.3,versicolor\n",
      "\n",
      "5.5,2.6,4.4,1.2,versicolor\n",
      "\n",
      "6.1,3.0,4.6,1.4,versicolor\n",
      "\n",
      "5.8,2.6,4.0,1.2,versicolor\n",
      "\n",
      "5.0,2.3,3.3,1.0,versicolor\n",
      "\n",
      "5.6,2.7,4.2,1.3,versicolor\n",
      "\n",
      "5.7,3.0,4.2,1.2,versicolor\n",
      "\n",
      "5.7,2.9,4.2,1.3,versicolor\n",
      "\n",
      "6.2,2.9,4.3,1.3,versicolor\n",
      "\n",
      "5.1,2.5,3.0,1.1,versicolor\n",
      "\n",
      "5.7,2.8,4.1,1.3,versicolor\n",
      "\n",
      "6.3,3.3,6.0,2.5,virginica\n",
      "\n",
      "5.8,2.7,5.1,1.9,virginica\n",
      "\n",
      "7.1,3.0,5.9,2.1,virginica\n",
      "\n",
      "6.3,2.9,5.6,1.8,virginica\n",
      "\n",
      "6.5,3.0,5.8,2.2,virginica\n",
      "\n",
      "7.6,3.0,6.6,2.1,virginica\n",
      "\n",
      "4.9,2.5,4.5,1.7,virginica\n",
      "\n",
      "7.3,2.9,6.3,1.8,virginica\n",
      "\n",
      "6.7,2.5,5.8,1.8,virginica\n",
      "\n",
      "7.2,3.6,6.1,2.5,virginica\n",
      "\n",
      "6.5,3.2,5.1,2.0,virginica\n",
      "\n",
      "6.4,2.7,5.3,1.9,virginica\n",
      "\n",
      "6.8,3.0,5.5,2.1,virginica\n",
      "\n",
      "5.7,2.5,5.0,2.0,virginica\n",
      "\n",
      "5.8,2.8,5.1,2.4,virginica\n",
      "\n",
      "6.4,3.2,5.3,2.3,virginica\n",
      "\n",
      "6.5,3.0,5.5,1.8,virginica\n",
      "\n",
      "7.7,3.8,6.7,2.2,virginica\n",
      "\n",
      "7.7,2.6,6.9,2.3,virginica\n",
      "\n",
      "6.0,2.2,5.0,1.5,virginica\n",
      "\n",
      "6.9,3.2,5.7,2.3,virginica\n",
      "\n",
      "5.6,2.8,4.9,2.0,virginica\n",
      "\n",
      "7.7,2.8,6.7,2.0,virginica\n",
      "\n",
      "6.3,2.7,4.9,1.8,virginica\n",
      "\n",
      "6.7,3.3,5.7,2.1,virginica\n",
      "\n",
      "7.2,3.2,6.0,1.8,virginica\n",
      "\n",
      "6.2,2.8,4.8,1.8,virginica\n",
      "\n",
      "6.1,3.0,4.9,1.8,virginica\n",
      "\n",
      "6.4,2.8,5.6,2.1,virginica\n",
      "\n",
      "7.2,3.0,5.8,1.6,virginica\n",
      "\n",
      "7.4,2.8,6.1,1.9,virginica\n",
      "\n",
      "7.9,3.8,6.4,2.0,virginica\n",
      "\n",
      "6.4,2.8,5.6,2.2,virginica\n",
      "\n",
      "6.3,2.8,5.1,1.5,virginica\n",
      "\n",
      "6.1,2.6,5.6,1.4,virginica\n",
      "\n",
      "7.7,3.0,6.1,2.3,virginica\n",
      "\n",
      "6.3,3.4,5.6,2.4,virginica\n",
      "\n",
      "6.4,3.1,5.5,1.8,virginica\n",
      "\n",
      "6.0,3.0,4.8,1.8,virginica\n",
      "\n",
      "6.9,3.1,5.4,2.1,virginica\n",
      "\n",
      "6.7,3.1,5.6,2.4,virginica\n",
      "\n",
      "6.9,3.1,5.1,2.3,virginica\n",
      "\n",
      "5.8,2.7,5.1,1.9,virginica\n",
      "\n",
      "6.8,3.2,5.9,2.3,virginica\n",
      "\n",
      "6.7,3.3,5.7,2.5,virginica\n",
      "\n",
      "6.7,3.0,5.2,2.3,virginica\n",
      "\n",
      "6.3,2.5,5.0,1.9,virginica\n",
      "\n",
      "6.5,3.0,5.2,2.0,virginica\n",
      "\n",
      "6.2,3.4,5.4,2.3,virginica\n",
      "\n",
      "5.9,3.0,5.1,1.8,virginica\n",
      "\n"
     ]
    }
   ],
   "source": [
    "# for text files, readlines is often very useful\n",
    "lines = f.readlines()\n",
    "for line in lines:\n",
    "    print(line)"
   ]
  },
  {
   "cell_type": "code",
   "execution_count": null,
   "metadata": {},
   "outputs": [],
   "source": []
  },
  {
   "cell_type": "code",
   "execution_count": 144,
   "metadata": {},
   "outputs": [
    {
     "data": {
      "text/plain": [
       "[]"
      ]
     },
     "execution_count": 144,
     "metadata": {},
     "output_type": "execute_result"
    }
   ],
   "source": [
    "\n",
    "                print \"end\" parameter\n",
    "            the power of list and dicts\n",
    "                zip\n",
    "                list comprehensions\n",
    "                dict comprehensions\n",
    "            Python scopes\n",
    "                sequential definitions\n",
    "                global and local variables\n",
    "                    function variables\n",
    "                    shadowing\n",
    "                __name__ und programmaufbau mit main() function"
   ]
  },
  {
   "cell_type": "code",
   "execution_count": null,
   "metadata": {},
   "outputs": [],
   "source": []
  }
 ],
 "metadata": {
  "celltoolbar": "Slideshow",
  "kernelspec": {
   "display_name": "Python 3",
   "language": "python",
   "name": "python3"
  },
  "language_info": {
   "codemirror_mode": {
    "name": "ipython",
    "version": 3
   },
   "file_extension": ".py",
   "mimetype": "text/x-python",
   "name": "python",
   "nbconvert_exporter": "python",
   "pygments_lexer": "ipython3",
   "version": "3.7.3"
  }
 },
 "nbformat": 4,
 "nbformat_minor": 2
}
